{
 "cells": [
  {
   "cell_type": "code",
   "execution_count": 14,
   "metadata": {
    "collapsed": false
   },
   "outputs": [
    {
     "name": "stdout",
     "output_type": "stream",
     "text": [
      "Checking whether there is an H2O instance running at http://localhost:54321. connected.\n"
     ]
    },
    {
     "data": {
      "text/html": [
       "<div style=\"overflow:auto\"><table style=\"width:50%\"><tr><td>H2O cluster uptime:</td>\n",
       "<td>53 secs</td></tr>\n",
       "<tr><td>H2O cluster version:</td>\n",
       "<td>3.11.0.99999</td></tr>\n",
       "<tr><td>H2O cluster version age:</td>\n",
       "<td>1 hour and 38 minutes </td></tr>\n",
       "<tr><td>H2O cluster name:</td>\n",
       "<td>H2O_from_python_laurend_zj9ej1</td></tr>\n",
       "<tr><td>H2O cluster total nodes:</td>\n",
       "<td>1</td></tr>\n",
       "<tr><td>H2O cluster free memory:</td>\n",
       "<td>3.280 Gb</td></tr>\n",
       "<tr><td>H2O cluster total cores:</td>\n",
       "<td>8</td></tr>\n",
       "<tr><td>H2O cluster allowed cores:</td>\n",
       "<td>8</td></tr>\n",
       "<tr><td>H2O cluster status:</td>\n",
       "<td>accepting new members, healthy</td></tr>\n",
       "<tr><td>H2O connection url:</td>\n",
       "<td>http://localhost:54321</td></tr>\n",
       "<tr><td>H2O connection proxy:</td>\n",
       "<td>None</td></tr>\n",
       "<tr><td>Python version:</td>\n",
       "<td>2.7.11 final</td></tr></table></div>"
      ],
      "text/plain": [
       "--------------------------  ------------------------------\n",
       "H2O cluster uptime:         53 secs\n",
       "H2O cluster version:        3.11.0.99999\n",
       "H2O cluster version age:    1 hour and 38 minutes\n",
       "H2O cluster name:           H2O_from_python_laurend_zj9ej1\n",
       "H2O cluster total nodes:    1\n",
       "H2O cluster free memory:    3.280 Gb\n",
       "H2O cluster total cores:    8\n",
       "H2O cluster allowed cores:  8\n",
       "H2O cluster status:         accepting new members, healthy\n",
       "H2O connection url:         http://localhost:54321\n",
       "H2O connection proxy:\n",
       "Python version:             2.7.11 final\n",
       "--------------------------  ------------------------------"
      ]
     },
     "metadata": {},
     "output_type": "display_data"
    }
   ],
   "source": [
    "import warnings\n",
    "warnings.filterwarnings('ignore', category=DeprecationWarning, module='.*/jupyter/.*')\n",
    "\n",
    "# Load the H2O library and start up the H2O cluter locally on your machine\n",
    "import h2o\n",
    "import numpy as np\n",
    "import pandas as pd\n",
    "\n",
    "# Number of threads, nthreads = -1, means use all cores on your machine\n",
    "# max_mem_size is the maximum memory (in GB) to allocate to H2O\n",
    "h2o.init(nthreads = -1)\n",
    "h2o.cluster().show_status()\n",
    "#remove deprecated warning messages\n"
   ]
  },
  {
   "cell_type": "markdown",
   "metadata": {},
   "source": [
    "## Train a binary classification GBM model"
   ]
  },
  {
   "cell_type": "code",
   "execution_count": 15,
   "metadata": {
    "collapsed": false
   },
   "outputs": [
    {
     "name": "stdout",
     "output_type": "stream",
     "text": [
      "Parse progress: |█████████████████████████████████████████████████████████████████████████████| 100%\n"
     ]
    }
   ],
   "source": [
    "# A small clean telecommunications sample dataset (https://www.ibm.com/communities/analytics/watson-analytics-blog/predictive-insights-in-the-telco-customer-churn-data-set/\n",
    "telco_dataset = h2o.import_file(\"https://s3.amazonaws.com/h2o-smalldata/TelcoChurn.csv\")\n",
    "# select all columns as predictors except the customerID (which is like an index) and the response column\n",
    "features_list = list(telco_dataset.columns[1:-1])\n",
    "response_name = 'Churn'\n",
    "# specify the response column\n",
    "response_col = telco_dataset['Churn']\n",
    "\n",
    "# update the telco data format: \n",
    "# change SeniorCitizen to 'yes'/ 'no'\n",
    "telco_dataset['SeniorCitizen'] = (telco_dataset['SeniorCitizen'] == 1).ifelse('Yes','No')\n",
    "# Add the same form of capitalization across variables\n",
    "# columns changed were: customerID, gender, tenure\n",
    "telco_dataset.columns =[u'CustomerID',\n",
    " u'Gender',\n",
    " u'SeniorCitizen',\n",
    " u'Partner',\n",
    " u'Dependents',\n",
    " u'Tenure',\n",
    " u'PhoneService',\n",
    " u'MultipleLines',\n",
    " u'InternetService',\n",
    " u'OnlineSecurity',\n",
    " u'OnlineBackup',\n",
    " u'DeviceProtection',\n",
    " u'TechSupport',\n",
    " u'StreamingTV',\n",
    " u'StreamingMovies',\n",
    " u'Contract',\n",
    " u'PaperlessBilling',\n",
    " u'PaymentMethod',\n",
    " u'MonthlyCharges',\n",
    " u'TotalCharges',\n",
    " u'Churn']"
   ]
  },
  {
   "cell_type": "code",
   "execution_count": 16,
   "metadata": {
    "collapsed": true
   },
   "outputs": [],
   "source": [
    "# Partition data into 70%, 15%, 15% chunks\n",
    "# Setting a seed will guarantee reproducibility\n",
    "splits = telco_dataset.split_frame(ratios=[0.75,0.15], seed=1234)\n",
    "\n",
    "train = splits[0]\n",
    "valid = splits[1]\n",
    "test = splits[2]"
   ]
  },
  {
   "cell_type": "code",
   "execution_count": 17,
   "metadata": {
    "collapsed": true
   },
   "outputs": [],
   "source": [
    "# Import H2O GBM:\n",
    "from h2o.estimators.gbm import H2OGradientBoostingEstimator"
   ]
  },
  {
   "cell_type": "code",
   "execution_count": 18,
   "metadata": {
    "collapsed": false
   },
   "outputs": [
    {
     "name": "stdout",
     "output_type": "stream",
     "text": [
      "gbm Model Build progress: |███████████████████████████████████████████████████████████████████| 100%\n"
     ]
    }
   ],
   "source": [
    "# Initialize and train the GBM estimator:\n",
    "\n",
    "gbm_fit1 = H2OGradientBoostingEstimator(model_id='gbm_fit1', seed=1234)\n",
    "gbm_fit1.train(x=features_list, y=response_name, training_frame=train)"
   ]
  },
  {
   "cell_type": "code",
   "execution_count": 19,
   "metadata": {
    "collapsed": false
   },
   "outputs": [
    {
     "name": "stdout",
     "output_type": "stream",
     "text": [
      "0.898991631213\n",
      "0.846356661079\n"
     ]
    }
   ],
   "source": [
    "performance_train = gbm_fit1.model_performance(train)\n",
    "print performance_train.auc()\n",
    "performance_valid = gbm_fit1.model_performance(valid)\n",
    "print performance_valid.auc()"
   ]
  },
  {
   "cell_type": "code",
   "execution_count": 20,
   "metadata": {
    "collapsed": false
   },
   "outputs": [
    {
     "name": "stdout",
     "output_type": "stream",
     "text": [
      "gbm prediction progress: |████████████████████████████████████████████████████████████████████| 100%\n",
      "predict           No        Yes\n",
      "---------  ---------  ---------\n",
      "Yes        0.477764   0.522236\n",
      "No         0.841262   0.158738\n",
      "Yes        0.0693953  0.930605\n",
      "No         0.950326   0.0496742\n",
      "No         0.815239   0.184761\n",
      "Yes        0.309136   0.690864\n",
      "No         0.9127     0.0872996\n",
      "Yes        0.285358   0.714642\n",
      "No         0.937889   0.0621111\n",
      "Yes        0.354816   0.645184\n",
      "\n",
      "[1029 rows x 3 columns]\n"
     ]
    }
   ],
   "source": [
    "models_predictions = gbm_fit1.predict(valid)\n",
    "print models_predictions "
   ]
  },
  {
   "cell_type": "code",
   "execution_count": 21,
   "metadata": {
    "collapsed": true
   },
   "outputs": [],
   "source": [
    "intervention_cost = 3.0  # Cost of classification \n",
    "effectiveness = 0.1      # 10% of users will be influenced by this particular intervention"
   ]
  },
  {
   "cell_type": "code",
   "execution_count": 22,
   "metadata": {
    "collapsed": false
   },
   "outputs": [
    {
     "name": "stdout",
     "output_type": "stream",
     "text": [
      "gbm prediction progress: |████████████████████████████████████████████████████████████████████| 100%\n"
     ]
    }
   ],
   "source": [
    "# this is temporary for debubgging only\n",
    "# we can set a threshold to use for now (this will be a variable in the future)\n",
    "newdata = valid\n",
    "model = gbm_fit1\n",
    "threshold = 0.6\n",
    "pred = model.predict(newdata)\n",
    "pred['predict'] = pred['Yes']>threshold"
   ]
  },
  {
   "cell_type": "code",
   "execution_count": 23,
   "metadata": {
    "collapsed": false
   },
   "outputs": [
    {
     "data": {
      "text/html": [
       "<table>\n",
       "<tr><th style=\"text-align: right;\">  predict</th><th style=\"text-align: right;\">       No</th><th style=\"text-align: right;\">      Yes</th></tr>\n",
       "<tr><td style=\"text-align: right;\">        0</td><td style=\"text-align: right;\">0.477764 </td><td style=\"text-align: right;\">0.522236 </td></tr>\n",
       "<tr><td style=\"text-align: right;\">        0</td><td style=\"text-align: right;\">0.841262 </td><td style=\"text-align: right;\">0.158738 </td></tr>\n",
       "<tr><td style=\"text-align: right;\">        1</td><td style=\"text-align: right;\">0.0693953</td><td style=\"text-align: right;\">0.930605 </td></tr>\n",
       "<tr><td style=\"text-align: right;\">        0</td><td style=\"text-align: right;\">0.950326 </td><td style=\"text-align: right;\">0.0496742</td></tr>\n",
       "<tr><td style=\"text-align: right;\">        0</td><td style=\"text-align: right;\">0.815239 </td><td style=\"text-align: right;\">0.184761 </td></tr>\n",
       "<tr><td style=\"text-align: right;\">        1</td><td style=\"text-align: right;\">0.309136 </td><td style=\"text-align: right;\">0.690864 </td></tr>\n",
       "<tr><td style=\"text-align: right;\">        0</td><td style=\"text-align: right;\">0.9127   </td><td style=\"text-align: right;\">0.0872996</td></tr>\n",
       "<tr><td style=\"text-align: right;\">        1</td><td style=\"text-align: right;\">0.285358 </td><td style=\"text-align: right;\">0.714642 </td></tr>\n",
       "<tr><td style=\"text-align: right;\">        0</td><td style=\"text-align: right;\">0.937889 </td><td style=\"text-align: right;\">0.0621111</td></tr>\n",
       "<tr><td style=\"text-align: right;\">        1</td><td style=\"text-align: right;\">0.354816 </td><td style=\"text-align: right;\">0.645184 </td></tr>\n",
       "</table>"
      ]
     },
     "metadata": {},
     "output_type": "display_data"
    },
    {
     "data": {
      "text/plain": []
     },
     "execution_count": 23,
     "metadata": {},
     "output_type": "execute_result"
    }
   ],
   "source": [
    "pred"
   ]
  },
  {
   "cell_type": "markdown",
   "metadata": {},
   "source": [
    "Now that we have a trained model and predictions (0/1) on a validation set, we can compute the confusion matrix to get the numbers of TP, FP, TN, FN."
   ]
  },
  {
   "cell_type": "code",
   "execution_count": 24,
   "metadata": {
    "collapsed": false
   },
   "outputs": [
    {
     "name": "stdout",
     "output_type": "stream",
     "text": [
      "\n",
      "Confusion Matrix (Act/Pred) for max f1 @ threshold = 0.344499665034: \n"
     ]
    },
    {
     "data": {
      "text/html": [
       "<div style=\"overflow:auto\"><table style=\"width:50%\"><tr><td><b></b></td>\n",
       "<td><b>No</b></td>\n",
       "<td><b>Yes</b></td>\n",
       "<td><b>Error</b></td>\n",
       "<td><b>Rate</b></td></tr>\n",
       "<tr><td>No</td>\n",
       "<td>3272.0</td>\n",
       "<td>610.0</td>\n",
       "<td>0.1571</td>\n",
       "<td> (610.0/3882.0)</td></tr>\n",
       "<tr><td>Yes</td>\n",
       "<td>294.0</td>\n",
       "<td>1121.0</td>\n",
       "<td>0.2078</td>\n",
       "<td> (294.0/1415.0)</td></tr>\n",
       "<tr><td>Total</td>\n",
       "<td>3566.0</td>\n",
       "<td>1731.0</td>\n",
       "<td>0.1707</td>\n",
       "<td> (904.0/5297.0)</td></tr></table></div>"
      ],
      "text/plain": [
       "       No    Yes    Error    Rate\n",
       "-----  ----  -----  -------  --------------\n",
       "No     3272  610    0.1571   (610.0/3882.0)\n",
       "Yes    294   1121   0.2078   (294.0/1415.0)\n",
       "Total  3566  1731   0.1707   (904.0/5297.0)"
      ]
     },
     "metadata": {},
     "output_type": "display_data"
    },
    {
     "name": "stdout",
     "output_type": "stream",
     "text": [
      "\n",
      "<class 'h2o.model.confusion_matrix.ConfusionMatrix'>\n"
     ]
    }
   ],
   "source": [
    "conf = model.confusion_matrix()\n",
    "print conf\n",
    "print type(conf)"
   ]
  },
  {
   "cell_type": "code",
   "execution_count": 25,
   "metadata": {
    "collapsed": false
   },
   "outputs": [
    {
     "name": "stdout",
     "output_type": "stream",
     "text": [
      "              No     Yes   Error             Rate\n",
      "0     No  3272.0   610.0  0.1571   (610.0/3882.0)\n",
      "1    Yes   294.0  1121.0  0.2078   (294.0/1415.0)\n",
      "2  Total  3566.0  1731.0  0.1707   (904.0/5297.0)\n"
     ]
    }
   ],
   "source": [
    "conf_df = conf.table.as_data_frame()\n",
    "print conf_df"
   ]
  },
  {
   "cell_type": "code",
   "execution_count": 26,
   "metadata": {
    "collapsed": false
   },
   "outputs": [],
   "source": [
    "TN = conf_df.ix[0,1]  #True Negative\n",
    "FN = conf_df.ix[0,2]  #False Negative\n",
    "FP = conf_df.ix[1,1]  #False Positive\n",
    "TP = conf_df.ix[1,2]  #True Positive"
   ]
  },
  {
   "cell_type": "markdown",
   "metadata": {},
   "source": [
    "## Define cost parameters\n",
    "\n",
    "- `unit_full_price`: Unit cost in USD, e.g. \"cost of monthly cell phone bill\"\n",
    "- `unit_discount`: The discount of the coupon, e.g. 0.2 = 20% off\n",
    "- `discount_effectiveness`: The effectiveness of the coupon to prevent churn, e.g. 0.3 = 30% of people who would have churned, but received the coupon, will decide to buy the unit at a discounted price instead of not buying (churning)."
   ]
  },
  {
   "cell_type": "code",
   "execution_count": 27,
   "metadata": {
    "collapsed": false
   },
   "outputs": [
    {
     "name": "stdout",
     "output_type": "stream",
     "text": [
      "80.0\n"
     ]
    }
   ],
   "source": [
    "unit_full_price = 100\n",
    "unit_discount = 0.2\n",
    "discount_effectiveness = 0.3\n",
    "discounted_unit_price = (1 - unit_discount) * unit_full_price\n",
    "print discounted_unit_price"
   ]
  },
  {
   "cell_type": "markdown",
   "metadata": {},
   "source": [
    "### Send coupon to people who are predicted to churn\n",
    "\n",
    "For all the people who we predict as \"Will Churn\", we send them a coupon to try to get them not to churn.  There are two groups in this population:\n",
    "\n",
    "1. TP: Apply the coupon and 30% of these folks will decide to continue with their current telecommunications company and pay the next month's bill, instead of leaving for another telecommunications Company.  Company makes money.\n",
    "2. FP: These people were not going to churn -- so now they have 20% off coupon for something they were going to pay full price for.  Company loses money."
   ]
  },
  {
   "cell_type": "code",
   "execution_count": 28,
   "metadata": {
    "collapsed": false
   },
   "outputs": [
    {
     "name": "stdout",
     "output_type": "stream",
     "text": [
      "26904.0\n",
      "-5880.0\n"
     ]
    }
   ],
   "source": [
    "# Total reward of TP group: TP * 80 * 0.3  # Discounted price is $80.00, which is 20% off of $100\n",
    "TP_value = TP * discounted_unit_price * discount_effectiveness \n",
    "print TP_value\n",
    "\n",
    "# Total cost of FP group: FP * 100 * .2  # Coupon is $20, which is 20% of $100, lost for each FP\n",
    "FP_value = FP * unit_full_price * unit_discount * -1\n",
    "print FP_value"
   ]
  },
  {
   "cell_type": "markdown",
   "metadata": {},
   "source": [
    "### Don't send coupon to people who are not predicted to churn\n",
    "\n",
    "For all the people who we predict as \"Will Not Churn\", we don't bother to send them a coupon.  There are two groups in this population:\n",
    "\n",
    "1. TN: These people were not going to churn, and they didn't get a coupon, so there's no loss or gain here.\n",
    "2. FN: These people do churn, and since they didn't get an inticing coupon in the mail, there is nothing to prevent them from churning.  These are lost customers.  Company loses money."
   ]
  },
  {
   "cell_type": "code",
   "execution_count": 29,
   "metadata": {
    "collapsed": false
   },
   "outputs": [
    {
     "name": "stdout",
     "output_type": "stream",
     "text": [
      "-14640.0\n",
      "0.0\n"
     ]
    }
   ],
   "source": [
    "# Total cost of FN group: 30% of these churns could have been saved at a 20% discount\n",
    "# this is the amount of extra money you could have gained if you had predicted correctly that these people would churn\n",
    "# note revove FN_value if you want to assume this is money you can't gain because your model is as good as it can be.\n",
    "FN_value = FN * discounted_unit_price * discount_effectiveness * -1\n",
    "print FN_value\n",
    "\n",
    "# Total cost/reward of TN group: Nothing, the intervention has no effect on the outcome for this population\n",
    "TN_value = 0.00\n",
    "print TN_value "
   ]
  },
  {
   "cell_type": "code",
   "execution_count": 41,
   "metadata": {
    "collapsed": false
   },
   "outputs": [
    {
     "name": "stdout",
     "output_type": "stream",
     "text": [
      "6384.0\n",
      "6384.0\n"
     ]
    }
   ],
   "source": [
    "intervention_net_value = TP_value + FP_value + TN_value + FN_value\n",
    "print(TP_value + FP_value + TN_value + FN_value)\n",
    "print intervention_net_value"
   ]
  },
  {
   "cell_type": "code",
   "execution_count": 43,
   "metadata": {
    "collapsed": false
   },
   "outputs": [
    {
     "name": "stdout",
     "output_type": "stream",
     "text": [
      "26904.0\n",
      "-5880.0\n",
      "0.0\n",
      "-14640.0\n"
     ]
    },
    {
     "data": {
      "text/plain": [
       "6384.0"
      ]
     },
     "execution_count": 43,
     "metadata": {},
     "output_type": "execute_result"
    }
   ],
   "source": [
    "print(TP_value)\n",
    "print(FP_value)\n",
    "print(TN_value)\n",
    "print(FN_value)\n",
    "TP_value + FP_value + TN_value + FN_value"
   ]
  },
  {
   "cell_type": "markdown",
   "metadata": {},
   "source": [
    "### Intervention Value Function\n",
    "\n",
    "Ok, lets wrap all this up in a function and try different interventions.\n",
    "* Note the value of intervention is the cost of intervening, given the number of people you get right and wrong."
   ]
  },
  {
   "cell_type": "code",
   "execution_count": 48,
   "metadata": {
    "collapsed": false
   },
   "outputs": [],
   "source": [
    "def intervention_value(intervention_params, newdata, model, threshold = None):\n",
    "    ''' \n",
    "    intervention_params is a dict specifying intervention parameters\n",
    "    model must be a binomial H2O model\n",
    "    threshold is a number between 0 and 1\n",
    "    newdata is an H2OFrame of test data\n",
    "    '''\n",
    "    \n",
    "    # Parse parameters\n",
    "    unit_full_price = intervention_params['unit_full_price']\n",
    "    unit_discount = intervention_params['unit_discount']\n",
    "    discount_effectiveness = intervention_params['discount_effectiveness']\n",
    "    discounted_unit_price = (1 - unit_discount) * unit_full_price #CHANGED THIS FROM unit_cost\n",
    "    \n",
    "#     assert(unit_discount > 0.0)\n",
    "    \n",
    "    if threshold is not None:\n",
    "        # Update the predictions using specified threshold\n",
    "        pred = model.predict(newdata)\n",
    "        pred['predict'] = pred['Yes']>threshold\n",
    "        \n",
    "    print(threshold)\n",
    "    \n",
    "    # Confusion matrix\n",
    "    conf = model.confusion_matrix()\n",
    "    print conf\n",
    "    conf_df = conf.table.as_data_frame()\n",
    "    TN = conf_df.ix[0,1]  #True Negative\n",
    "    FN = conf_df.ix[0,2]  #False Negative\n",
    "    FP = conf_df.ix[1,1]  #False Positive\n",
    "    TP = conf_df.ix[1,2]  #True Positive\n",
    "    \n",
    "    # Total reward of TP group: TP * 0.6 * 0.3  #Discounted price is $0.60, which is 40% off of $1.00\n",
    "    TP_value = TP * discounted_unit_price * discount_effectiveness \n",
    "    print TP_value\n",
    "\n",
    "    # Total cost of FP group: FP * 0.4 * 1.00  #Coupon is $0.40, which is 40% of $1.00, lost for each FP\n",
    "    FP_value = FP * unit_full_price * unit_discount * -1\n",
    "    print FP_value\n",
    "    \n",
    "    # Total cost of FN group: 30% of these churns could have been saved at a 40% discount\n",
    "    FN_value = FN * discounted_unit_price * discount_effectiveness * -1\n",
    "    print(\"False Negative\", FN_value)\n",
    "\n",
    "    # Total cost/reward of TN group: Nothing, the intervention has no effect on the outcome for this population\n",
    "    TN_value = 0.00\n",
    "    print TN_value \n",
    "    \n",
    "    intervention_net_value = TP_value + FP_value + TN_value + FN_value\n",
    "    print 'Value of intervention is %.2f'%intervention_net_value\n",
    "    return intervention_net_value\n",
    "    "
   ]
  },
  {
   "cell_type": "code",
   "execution_count": 49,
   "metadata": {
    "collapsed": true
   },
   "outputs": [],
   "source": [
    "# same as above but without false negatives\n",
    "def intervention_value(intervention_params, newdata, model, threshold = None):\n",
    "    ''' \n",
    "    intervention_params is a dict specifying intervention parameters\n",
    "    model must be a binomial H2O model\n",
    "    threshold is a number between 0 and 1\n",
    "    newdata is an H2OFrame of test data\n",
    "    '''\n",
    "    \n",
    "    # Parse parameters\n",
    "    unit_full_price = intervention_params['unit_full_price']\n",
    "    unit_discount = intervention_params['unit_discount']\n",
    "    discount_effectiveness = intervention_params['discount_effectiveness']\n",
    "    discounted_unit_price = (1 - unit_discount) * unit_full_price #CHANGED THIS FROM unit_cost\n",
    "    \n",
    "#     assert(unit_discount > 0.0)\n",
    "    \n",
    "    if threshold is not None:\n",
    "        # Update the predictions using specified threshold\n",
    "        pred = model.predict(newdata)\n",
    "        pred['predict'] = pred['Yes']>threshold\n",
    "    \n",
    "    # Confusion matrix\n",
    "    conf = model.confusion_matrix()\n",
    "    print conf\n",
    "    conf_df = conf.table.as_data_frame()\n",
    "    TN = conf_df.ix[0,1]  #True Negative\n",
    "    FN = conf_df.ix[0,2]  #False Negative\n",
    "    FP = conf_df.ix[1,1]  #False Positive\n",
    "    TP = conf_df.ix[1,2]  #True Positive\n",
    "    \n",
    "    # Total reward of TP group: TP * 0.6 * 0.3  #Discounted price is $0.60, which is 40% off of $1.00\n",
    "    TP_value = TP * discounted_unit_price * discount_effectiveness \n",
    "    print TP_value\n",
    "\n",
    "    # Total cost of FP group: FP * 0.4 * 1.00  #Coupon is $0.40, which is 40% of $1.00, lost for each FP\n",
    "    FP_value = FP * unit_full_price * unit_discount * -1\n",
    "    print FP_value\n",
    "    \n",
    "    # Total cost of FN group: 30% of these churns could have been saved at a 40% discount\n",
    "    FN_value = FN * discounted_unit_price * discount_effectiveness * -1\n",
    "    print FN_value\n",
    "\n",
    "    # Total cost/reward of TN group: Nothing, the intervention has no effect on the outcome for this population\n",
    "    TN_value = 0.00\n",
    "    print TN_value \n",
    "    \n",
    "    intervention_net_value = TP_value + FP_value + TN_value # + FN_value\n",
    "    print 'Value of intervention is %.2f'%intervention_net_value\n",
    "    return intervention_net_value\n",
    "    "
   ]
  },
  {
   "cell_type": "code",
   "execution_count": 50,
   "metadata": {
    "collapsed": false
   },
   "outputs": [
    {
     "name": "stdout",
     "output_type": "stream",
     "text": [
      "\n",
      "Confusion Matrix (Act/Pred) for max f1 @ threshold = 0.344499665034: \n"
     ]
    },
    {
     "data": {
      "text/html": [
       "<div style=\"overflow:auto\"><table style=\"width:50%\"><tr><td><b></b></td>\n",
       "<td><b>No</b></td>\n",
       "<td><b>Yes</b></td>\n",
       "<td><b>Error</b></td>\n",
       "<td><b>Rate</b></td></tr>\n",
       "<tr><td>No</td>\n",
       "<td>3272.0</td>\n",
       "<td>610.0</td>\n",
       "<td>0.1571</td>\n",
       "<td> (610.0/3882.0)</td></tr>\n",
       "<tr><td>Yes</td>\n",
       "<td>294.0</td>\n",
       "<td>1121.0</td>\n",
       "<td>0.2078</td>\n",
       "<td> (294.0/1415.0)</td></tr>\n",
       "<tr><td>Total</td>\n",
       "<td>3566.0</td>\n",
       "<td>1731.0</td>\n",
       "<td>0.1707</td>\n",
       "<td> (904.0/5297.0)</td></tr></table></div>"
      ],
      "text/plain": [
       "       No    Yes    Error    Rate\n",
       "-----  ----  -----  -------  --------------\n",
       "No     3272  610    0.1571   (610.0/3882.0)\n",
       "Yes    294   1121   0.2078   (294.0/1415.0)\n",
       "Total  3566  1731   0.1707   (904.0/5297.0)"
      ]
     },
     "metadata": {},
     "output_type": "display_data"
    },
    {
     "name": "stdout",
     "output_type": "stream",
     "text": [
      "\n",
      "26904.0\n",
      "-5880.0\n",
      "-14640.0\n",
      "0.0\n",
      "Value of intervention is 21024.00\n"
     ]
    }
   ],
   "source": [
    "# Let's try some interventions:\n",
    "\n",
    "\n",
    "intervention1 = {'unit_full_price': 100,\n",
    "                 'unit_discount': 0.2,\n",
    "                 'discount_effectiveness': .3}\n",
    "\n",
    "ival1 = intervention_value(intervention_params = intervention1, newdata = test, model = model, threshold = None)"
   ]
  },
  {
   "cell_type": "code",
   "execution_count": 51,
   "metadata": {
    "collapsed": false
   },
   "outputs": [
    {
     "name": "stdout",
     "output_type": "stream",
     "text": [
      "\n",
      "Confusion Matrix (Act/Pred) for max f1 @ threshold = 0.344499665034: \n"
     ]
    },
    {
     "data": {
      "text/html": [
       "<div style=\"overflow:auto\"><table style=\"width:50%\"><tr><td><b></b></td>\n",
       "<td><b>No</b></td>\n",
       "<td><b>Yes</b></td>\n",
       "<td><b>Error</b></td>\n",
       "<td><b>Rate</b></td></tr>\n",
       "<tr><td>No</td>\n",
       "<td>3272.0</td>\n",
       "<td>610.0</td>\n",
       "<td>0.1571</td>\n",
       "<td> (610.0/3882.0)</td></tr>\n",
       "<tr><td>Yes</td>\n",
       "<td>294.0</td>\n",
       "<td>1121.0</td>\n",
       "<td>0.2078</td>\n",
       "<td> (294.0/1415.0)</td></tr>\n",
       "<tr><td>Total</td>\n",
       "<td>3566.0</td>\n",
       "<td>1731.0</td>\n",
       "<td>0.1707</td>\n",
       "<td> (904.0/5297.0)</td></tr></table></div>"
      ],
      "text/plain": [
       "       No    Yes    Error    Rate\n",
       "-----  ----  -----  -------  --------------\n",
       "No     3272  610    0.1571   (610.0/3882.0)\n",
       "Yes    294   1121   0.2078   (294.0/1415.0)\n",
       "Total  3566  1731   0.1707   (904.0/5297.0)"
      ]
     },
     "metadata": {},
     "output_type": "display_data"
    },
    {
     "name": "stdout",
     "output_type": "stream",
     "text": [
      "\n",
      "26904.0\n",
      "-5880.0\n",
      "-14640.0\n",
      "0.0\n",
      "Value of intervention is 21024.00\n"
     ]
    }
   ],
   "source": [
    "# A unit discount of $0.00 should produce a value of intervention of 0.00\n",
    "\n",
    "intervention2 = {'unit_full_price': 100,\n",
    "                 'unit_discount': 0.2,\n",
    "                 'discount_effectiveness': 0.3}\n",
    "\n",
    "ival2 = intervention_value(intervention_params = intervention2, newdata = test, model = model, threshold = None)"
   ]
  },
  {
   "cell_type": "code",
   "execution_count": 52,
   "metadata": {
    "collapsed": false
   },
   "outputs": [
    {
     "name": "stdout",
     "output_type": "stream",
     "text": [
      "\n",
      "Confusion Matrix (Act/Pred) for max f1 @ threshold = 0.344499665034: \n"
     ]
    },
    {
     "data": {
      "text/html": [
       "<div style=\"overflow:auto\"><table style=\"width:50%\"><tr><td><b></b></td>\n",
       "<td><b>No</b></td>\n",
       "<td><b>Yes</b></td>\n",
       "<td><b>Error</b></td>\n",
       "<td><b>Rate</b></td></tr>\n",
       "<tr><td>No</td>\n",
       "<td>3272.0</td>\n",
       "<td>610.0</td>\n",
       "<td>0.1571</td>\n",
       "<td> (610.0/3882.0)</td></tr>\n",
       "<tr><td>Yes</td>\n",
       "<td>294.0</td>\n",
       "<td>1121.0</td>\n",
       "<td>0.2078</td>\n",
       "<td> (294.0/1415.0)</td></tr>\n",
       "<tr><td>Total</td>\n",
       "<td>3566.0</td>\n",
       "<td>1731.0</td>\n",
       "<td>0.1707</td>\n",
       "<td> (904.0/5297.0)</td></tr></table></div>"
      ],
      "text/plain": [
       "       No    Yes    Error    Rate\n",
       "-----  ----  -----  -------  --------------\n",
       "No     3272  610    0.1571   (610.0/3882.0)\n",
       "Yes    294   1121   0.2078   (294.0/1415.0)\n",
       "Total  3566  1731   0.1707   (904.0/5297.0)"
      ]
     },
     "metadata": {},
     "output_type": "display_data"
    },
    {
     "name": "stdout",
     "output_type": "stream",
     "text": [
      "\n",
      "33630.0\n",
      "-0.0\n",
      "-18300.0\n",
      "0.0\n",
      "Value of intervention is 33630.00\n"
     ]
    }
   ],
   "source": [
    "# A unit discount of $0.00 should produce a value of intervention of 0.00... hmm maybe something is wrong above?\n",
    "\n",
    "intervention2 = {'unit_full_price': 100,\n",
    "                 'unit_discount': 0.0,\n",
    "                 'discount_effectiveness': 0.3}\n",
    "\n",
    "ival = intervention_value(intervention_params = intervention2, newdata = test, model = model, threshold = None)"
   ]
  },
  {
   "cell_type": "code",
   "execution_count": null,
   "metadata": {
    "collapsed": true
   },
   "outputs": [],
   "source": [
    "# load the best model from the churn_analysis notebook\n",
    "best_gbm = h2o.load_model(\"/Users/laurend/Code/repos/customer-churn/data/\")"
   ]
  },
  {
   "cell_type": "code",
   "execution_count": 25,
   "metadata": {
    "collapsed": false
   },
   "outputs": [],
   "source": [
    "import numpy as np\n",
    "# define the input range of values for the cost function to take:\n",
    "# $20 to $180, 0 - 100%, and fixed number of people\n",
    "# using verizon current range of plans as a values for possible monthly cell phone bills\n",
    "range_unit_full_price = [35, 50, 70, 90, 110]\n",
    "# discount can be from 0 - 100% off using 10% increments\n",
    "range_unit_discount = np.arange(0.0, 1.1, .10)\n",
    "# effectiveness of coupon can be 0 to 100% effective, using increments of 10%\n",
    "range_discount_effectiveness = np.arange(0.0, 1.1, .10)\n",
    "# provide a range of relative thresholds \n",
    "# range_threshold = np.arange(.10, 1.1, .10)\n",
    "\n",
    "# calculate the discout_unit_price given a unit_discount and unit full price values\n",
    "# TO DO: make a discount_unit_price definition:\n",
    "# discounted_unit_price = (1 - unit_discount) * unit_full_price\n",
    "# print discounted_unit_price"
   ]
  },
  {
   "cell_type": "code",
   "execution_count": 66,
   "metadata": {
    "collapsed": true
   },
   "outputs": [],
   "source": [
    "# same as definition above but requred intervention_params to be individual inputs\n",
    "# the main difference is that FN_value is not used, because we assume this is a margin lost regardless of your\n",
    "# actions\n",
    "def intervention_gains(price, discount_amount, discount_effectiveness, newdata, model, threshold = None):\n",
    "    ''' \n",
    "    price: is the unit price\n",
    "    discount_amount: is the unit discount\n",
    "    discount_effectiveness: is the discount effectiveness percent\n",
    "    model must be a binomial H2O model\n",
    "    threshold is a number between 0 and 1\n",
    "    newdata is an H2OFrame of test data\n",
    "    returns: the gains or loss from type of intervention\n",
    "    '''\n",
    "    \n",
    "#     assert(unit_discount > 0.0)\n",
    "\n",
    "    unit_full_price = price\n",
    "    unit_discount = discount_amount\n",
    "    discount_effectiveness = discount_effectiveness\n",
    "    discounted_unit_price = (1 - unit_discount) * unit_full_price #CHANGED THIS FROM unit_cost\n",
    "    \n",
    "    if threshold is not None:\n",
    "        # Update the predictions using specified threshold\n",
    "        pred = model.predict(newdata)\n",
    "        pred['predict'] = pred['Yes']>threshold\n",
    "    \n",
    "    # Confusion matrix\n",
    "    conf = model.confusion_matrix()\n",
    "    conf_df = conf.table.as_data_frame()\n",
    "    TN = conf_df.ix[0,1]  #True Negative\n",
    "#     FN = conf_df.ix[0,2]  #False Negative\n",
    "    FP = conf_df.ix[1,1]  #False Positive\n",
    "    TP = conf_df.ix[1,2]  #True Positive\n",
    "    \n",
    "    # Total reward of TP group: TP * 0.6 * 0.3  #Discounted price is $0.60, which is 40% off of $1.00\n",
    "    TP_value = TP * discounted_unit_price * discount_effectiveness \n",
    "\n",
    "    # Total cost of FP group: FP * 0.4 * 1.00  #Coupon is $0.40, which is 40% of $1.00, lost for each FP\n",
    "    FP_value = FP * unit_full_price * unit_discount * -1\n",
    "    \n",
    "    # Total cost of FN group: 30% of these churns could have been saved at a 40% discount\n",
    "#     FN_value = TN * discounted_unit_price * discount_effectiveness * -1\n",
    "\n",
    "    # Total cost/reward of TN group: Nothing, the intervention has no effect on the outcome for this population\n",
    "    TN_value = 0.00\n",
    "    \n",
    "    intervention_net_value = TP_value + FP_value + TN_value # + FN_value\n",
    "    return intervention_net_value\n",
    "    "
   ]
  },
  {
   "cell_type": "code",
   "execution_count": 68,
   "metadata": {
    "collapsed": false
   },
   "outputs": [
    {
     "data": {
      "text/html": [
       "<div>\n",
       "<table border=\"1\" class=\"dataframe\">\n",
       "  <thead>\n",
       "    <tr style=\"text-align: right;\">\n",
       "      <th></th>\n",
       "      <th>Monthly_bill</th>\n",
       "      <th>Discounts</th>\n",
       "      <th>Discount_Effectiveness</th>\n",
       "      <th>Confidence_threshold</th>\n",
       "      <th>Gains/Loss</th>\n",
       "    </tr>\n",
       "  </thead>\n",
       "  <tbody>\n",
       "    <tr>\n",
       "      <th>0</th>\n",
       "      <td>35</td>\n",
       "      <td>0.0</td>\n",
       "      <td>0.0</td>\n",
       "      <td>None</td>\n",
       "      <td>0.0</td>\n",
       "    </tr>\n",
       "    <tr>\n",
       "      <th>1</th>\n",
       "      <td>35</td>\n",
       "      <td>0.0</td>\n",
       "      <td>0.1</td>\n",
       "      <td>None</td>\n",
       "      <td>3923.5</td>\n",
       "    </tr>\n",
       "    <tr>\n",
       "      <th>2</th>\n",
       "      <td>35</td>\n",
       "      <td>0.0</td>\n",
       "      <td>0.2</td>\n",
       "      <td>None</td>\n",
       "      <td>7847.0</td>\n",
       "    </tr>\n",
       "    <tr>\n",
       "      <th>3</th>\n",
       "      <td>35</td>\n",
       "      <td>0.0</td>\n",
       "      <td>0.3</td>\n",
       "      <td>None</td>\n",
       "      <td>11770.5</td>\n",
       "    </tr>\n",
       "    <tr>\n",
       "      <th>4</th>\n",
       "      <td>35</td>\n",
       "      <td>0.0</td>\n",
       "      <td>0.4</td>\n",
       "      <td>None</td>\n",
       "      <td>15694.0</td>\n",
       "    </tr>\n",
       "  </tbody>\n",
       "</table>\n",
       "</div>"
      ],
      "text/plain": [
       "   Monthly_bill  Discounts  Discount_Effectiveness Confidence_threshold  \\\n",
       "0            35        0.0                     0.0                 None   \n",
       "1            35        0.0                     0.1                 None   \n",
       "2            35        0.0                     0.2                 None   \n",
       "3            35        0.0                     0.3                 None   \n",
       "4            35        0.0                     0.4                 None   \n",
       "\n",
       "   Gains/Loss  \n",
       "0         0.0  \n",
       "1      3923.5  \n",
       "2      7847.0  \n",
       "3     11770.5  \n",
       "4     15694.0  "
      ]
     },
     "execution_count": 68,
     "metadata": {},
     "output_type": "execute_result"
    }
   ],
   "source": [
    "# TO DO: change model to 'best_model' once you have loaded best model from the saved binary\n",
    "# TO DO: save a glm and see how it compares to the tuned GBM\n",
    "# 1) create dictionary with the range of of values to loop over\n",
    "# 2) create an accuracy threshold look up table, that returns the threshold based on an input accuracy value\n",
    "\n",
    "\n",
    "# 3) loop over the monthly_bill (aka unit_full_price), discounts (aka unit_discount), \n",
    "#    effectiveness (aka discount_effectiveness), accuracy is related to the threshold\n",
    "#    maybe instead of accuracy this could be confidence and allows someone to change the threshold\n",
    "#    and build another dictionary that contains price, discount, effectiveness, accuracy, intervention_value\n",
    "#    convert the final dictionary to a pandas dataframe that can then be used as a lookup table and also converted\n",
    "#    to multiple pivot tables\n",
    "\n",
    "intervention_dict = {'Monthly_bill': [35, 50, 70, 90, 110],\n",
    "                     'Discounts': np.arange(0.0, 1.1, .10),\n",
    "                     'Discount_Effectiveness': np.arange(0.0, 1.1, .10),\n",
    "                     'Confidence_threshold': np.arange(.10, 1.1, .10)\n",
    "    \n",
    "}\n",
    "\n",
    "# use best_gbm as the model when you calculate gains (or losses)\n",
    "# initialized a list to fill with dict with new values (don't use confidence for the first naive run)\n",
    "temp_dict = []\n",
    "\n",
    "# loop over the intervention dict\n",
    "for bill in intervention_dict['Monthly_bill']:\n",
    "    for discount in intervention_dict['Discounts']:\n",
    "        for effectiveness in intervention_dict['Discount_Effectiveness']:\n",
    "            \n",
    "            # calculate the intervention gains (or losses)\n",
    "            gains_loss = intervention_gains(price=bill, discount_amount=discount, \n",
    "                                        discount_effectiveness=effectiveness, \n",
    "                                        newdata = test, model = model, threshold = None)\n",
    "            \n",
    "            # append dictionary results to list\n",
    "            temp_dict.append({'Monthly_bill': bill, 'Discounts': discount,\n",
    "                  'Discount_Effectiveness': effectiveness, 'Confidence_threshold': None, 'Gains/Loss': gains_loss})\n",
    "            \n",
    "            \n",
    "            \n",
    "# convert to pandas dataframe when for loops are finished, reset order of the columns\n",
    "lookup_table = pd.DataFrame(temp_dict, columns = ['Monthly_bill', 'Discounts', 'Discount_Effectiveness',\n",
    "                                   'Confidence_threshold' ,'Gains/Loss'])\n",
    "lookup_table.head()"
   ]
  },
  {
   "cell_type": "code",
   "execution_count": 69,
   "metadata": {
    "collapsed": false
   },
   "outputs": [],
   "source": [
    "# lookup_table.to_csv('/Users/laurend/Code/repos/customer-churn/data/lookup_table.csv')"
   ]
  },
  {
   "cell_type": "code",
   "execution_count": 71,
   "metadata": {
    "collapsed": false
   },
   "outputs": [],
   "source": [
    "# for testing purposes:\n",
    "# intervention_dict = {'Monthly_bill': [35, 50, 70, 90, 110],\n",
    "#                      'Discounts': np.arange(0.0, 1.1, .10),\n",
    "#                      'Discount_Effectiveness': np.arange(0.0, 1.1, .10),\n",
    "#                      'Confidence_threshold': np.arange(.10, 1.1, .10)}\n",
    "# gains_loss = intervention_gains(price=bill, discount_amount=discount, \n",
    "#                                discount_effectiveness=effectiveness, newdata = test, model = model, threshold = None)"
   ]
  },
  {
   "cell_type": "code",
   "execution_count": null,
   "metadata": {
    "collapsed": true
   },
   "outputs": [],
   "source": [
    "# definition to create a lookup table\n",
    "\n",
    "# TO DO: turn this into a definition and apply to glm\n",
    "# 1) create dictionary with the range of of values to loop over\n",
    "# 2) create an accuracy threshold look up table, that returns the threshold based on an input accuracy value\n",
    "\n",
    "\n",
    "# 3) loop over the monthly_bill (aka unit_full_price), discounts (aka unit_discount), \n",
    "#    effectiveness (aka discount_effectiveness), accuracy is related to the threshold\n",
    "#    maybe instead of accuracy this could be confidence and allows someone to change the threshold\n",
    "#    and build another dictionary that contains price, discount, effectiveness, accuracy, intervention_value\n",
    "#    convert the final dictionary to a pandas dataframe that can then be used as a lookup table and also converted\n",
    "#    to multiple pivot tables\n",
    "\n",
    "intervention_dict = {'Monthly_bill': [35, 50, 70, 90, 110],\n",
    "                     'Discounts': np.arange(0.0, 1.1, .10),\n",
    "                     'Discount_Effectiveness': np.arange(0.0, 1.1, .10),\n",
    "                     'Confidence_threshold': np.arange(.10, 1.1, .10)\n",
    "    \n",
    "}\n",
    "\n",
    "def gains_loss_table(intervention_params, model_used, data_used, effectiveness_used, \n",
    "                    discount_used, price_used, threshold_used=None):\n",
    "    # use best_gbm as the model when you calculate gains (or losses)\n",
    "    # initialized a list to fill with dict with new values (don't use confidence for the first naive run)\n",
    "    temp_dict = []\n",
    "\n",
    "    # loop over the intervention dict\n",
    "    for bill in intervention_dict['Monthly_bill']:\n",
    "        for discount in intervention_dict['Discounts']:\n",
    "            for effectiveness in intervention_dict['Discount_Effectiveness']:\n",
    "\n",
    "                # calculate the intervention gains (or losses)\n",
    "                gains_loss = intervention_gains(price=price_used, discount_amount=discount_used, \n",
    "                                            discount_effectiveness=effectiveness_used, \n",
    "                                            newdata = data_used, model = model_used, threshold = threshold_used)\n",
    "\n",
    "                # append dictionary results to list\n",
    "                temp_dict.append({'Monthly_bill': bill, 'Discounts': discount,\n",
    "                      'Discount_Effectiveness': effectiveness, 'Confidence_threshold': None, 'Gains/Loss': gains_loss})\n",
    "\n",
    "\n",
    "\n",
    "    # convert to pandas dataframe when for loops are finished, reset order of the columns\n",
    "    lookup_table = pd.DataFrame(temp_dict, columns = ['Monthly_bill', 'Discounts', 'Discount_Effectiveness',\n",
    "                                       'Confidence_threshold' ,'Gains/Loss'])\n",
    "    \n",
    "    return lookup_table\n"
   ]
  },
  {
   "cell_type": "code",
   "execution_count": 60,
   "metadata": {
    "collapsed": false
   },
   "outputs": [
    {
     "name": "stdout",
     "output_type": "stream",
     "text": [
      "Parse progress: |█████████████████████████████████████████████████████████████████████████████| 100%\n",
      "glm Model Build progress: |███████████████████████████████████████████████████████████████████| 100%\n"
     ]
    }
   ],
   "source": [
    "# get the same results but for a baseline glm\n",
    "telco_dataset = h2o.import_file(\"https://s3.amazonaws.com/h2o-smalldata/TelcoChurn.csv\")\n",
    "from h2o.estimators.glm import H2OGeneralizedLinearEstimator\n",
    "features_list = list(telco_dataset.columns[1:-1])\n",
    "response_name = 'Churn'\n",
    "train, valid, test = telco_dataset.split_frame(ratios=[0.70,0.15], seed=1234)\n",
    "glm = H2OGeneralizedLinearEstimator(family=\"binomial\")\n",
    "glm.train(x=features_list, y=response_name, training_frame=train,validation_frame = valid)\n",
    "\n",
    "# gains_loss_table()"
   ]
  },
  {
   "cell_type": "code",
   "execution_count": 65,
   "metadata": {
    "collapsed": false
   },
   "outputs": [
    {
     "name": "stdout",
     "output_type": "stream",
     "text": [
      "0.852151983371\n"
     ]
    }
   ],
   "source": [
    "print(glm.auc(valid=True))"
   ]
  },
  {
   "cell_type": "code",
   "execution_count": null,
   "metadata": {
    "collapsed": true
   },
   "outputs": [],
   "source": []
  }
 ],
 "metadata": {
  "kernelspec": {
   "display_name": "Python 2",
   "language": "python",
   "name": "python2"
  },
  "language_info": {
   "codemirror_mode": {
    "name": "ipython",
    "version": 2
   },
   "file_extension": ".py",
   "mimetype": "text/x-python",
   "name": "python",
   "nbconvert_exporter": "python",
   "pygments_lexer": "ipython2",
   "version": "2.7.11"
  }
 },
 "nbformat": 4,
 "nbformat_minor": 0
}
