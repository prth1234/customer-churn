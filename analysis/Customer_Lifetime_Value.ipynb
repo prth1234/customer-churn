{
 "cells": [
  {
   "cell_type": "markdown",
   "metadata": {},
   "source": [
    "## Calculating Customer Lifetime Value\n",
    "\n",
    "*note: calculations use equations from kissmetrics starbucks case study on customer churn*\n",
    "\n",
    "* other cites used: http://www.dbmarketing.com/telecom/churnreduction.html"
   ]
  },
  {
   "cell_type": "markdown",
   "metadata": {},
   "source": [
    "### Imports"
   ]
  },
  {
   "cell_type": "code",
   "execution_count": 1,
   "metadata": {
    "collapsed": false
   },
   "outputs": [],
   "source": [
    "import numpy as np\n",
    "import pandas as pd\n",
    "# import telco dataset from ibm\n",
    "telco_df = pd.read_csv(\"https://s3.amazonaws.com/h2o-smalldata/TelcoChurn.csv\",\n",
    "                       converters={'TotalCharges':lambda x: pd.to_numeric(x, errors='coerce')})"
   ]
  },
  {
   "cell_type": "markdown",
   "metadata": {},
   "source": [
    "### Set Variables"
   ]
  },
  {
   "cell_type": "code",
   "execution_count": 2,
   "metadata": {
    "collapsed": false
   },
   "outputs": [
    {
     "name": "stdout",
     "output_type": "stream",
     "text": [
      "monthly_bill: 64.7616924606\n",
      "average_customer_lifespan: 2.69759572152\n",
      "retention: 0.98\n",
      "profit_margin: 0.5\n",
      "rate_discount: 0.1\n",
      "gross_margin: 1048.205187\n"
     ]
    }
   ],
   "source": [
    "\n",
    "# average monthly bill per customer from the Telco datatsets Monthly Charges column\n",
    "monthly_bill =  telco_df[\"MonthlyCharges\"].mean()\n",
    "\n",
    "# average customer lifespan (units are in years) using the telco tenure (which is measured in months)\n",
    "average_customer_lifespan = telco_df['tenure'].mean()/12\n",
    "\n",
    "# customer retention rate: assume churn rate is 1.5% on average for telecom companies\n",
    "# churn_rate = 0.015\n",
    "# churn_rate = 0.2\n",
    "churn_rate = 0.02\n",
    "retention = 1 - churn_rate\n",
    "\n",
    "# profit margin per company: assume this is 50% on average for telecom companies\n",
    "profit_margin = .5\n",
    "\n",
    "# rate of discount: assume this is 10% assumming starbucks case study applies\n",
    "rate_discount = .1\n",
    "\n",
    "# average gross margin per customer lifespan (amount spent per customer over 2 year x profit margin)\n",
    "gross_margin = profit_margin * (average_customer_lifespan * monthly_bill *12)\n",
    "\n",
    "print 'monthly_bill:', monthly_bill\n",
    "print 'average_customer_lifespan:',average_customer_lifespan\n",
    "print 'retention:', retention\n",
    "print 'profit_margin:', profit_margin\n",
    "print 'rate_discount:', rate_discount\n",
    "print 'gross_margin:', gross_margin"
   ]
  },
  {
   "cell_type": "code",
   "execution_count": 3,
   "metadata": {
    "collapsed": false
   },
   "outputs": [],
   "source": [
    "# create a class to get all these attributes\n",
    "class customer_lifetime_value(object):\n",
    "    \n",
    "    def __init__(self,monthly_bill, average_customer_lifespan, \n",
    "                 churn_rate, profit_margin,rate_discount,gross_margin):\n",
    "        self.monthly_bill = monthly_bill\n",
    "        self.average_customer_lifespan = average_customer_lifespan\n",
    "        self.churn_rate = churn_rate\n",
    "        self.retention = 1 - self.churn_rate\n",
    "        self.profit_margin = profit_margin\n",
    "        self.rate_discount = rate_discount\n",
    "        self.gross_margin = self.profit_margin * (self.average_customer_lifespan * self.monthly_bill *12)\n",
    "        \n",
    "    # simple lifetime value in $dollars\n",
    "    def simple_lifetime(self): \n",
    "        self.simple_lifetime_value = self.monthly_bill * self.average_customer_lifespan * 12\n",
    "        return self.simple_lifetime_value\n",
    "    \n",
    "    # traditional lifetime value in $dollars\n",
    "    def traditional_lifetime(self):\n",
    "        self.traditional_lifetime_value = self.gross_margin *((self.retention)/\n",
    "                                             (1+self.rate_discount - self.retention))\n",
    "        return self.traditional_lifetime_value\n",
    "    \n",
    "    # customer lifetime value in $dollars\n",
    "    def lifetime(self):\n",
    "        self.lifetime_value = self.average_customer_lifespan * 12 * \\\n",
    "                self.monthly_bill * self.profit_margin\n",
    "        return self.lifetime_value \n",
    "    \n",
    "    # average lifetime value in $dollars\n",
    "    def average_lifetime(self):\n",
    "        self.average_lifetime_value = np.mean([self.simple_lifetime()\n",
    "                                         ,self.traditional_lifetime(),\n",
    "                                         self.lifetime()])\n",
    "\n",
    "        return self.average_lifetime_value   "
   ]
  },
  {
   "cell_type": "code",
   "execution_count": 4,
   "metadata": {
    "collapsed": false
   },
   "outputs": [],
   "source": [
    "churn_rate = 0.1\n",
    "retention = 1 - churn_rate \n",
    "telco_churn_1 = customer_lifetime_value(monthly_bill, average_customer_lifespan, \n",
    "                 churn_rate, profit_margin, rate_discount,\n",
    "                           gross_margin)"
   ]
  },
  {
   "cell_type": "code",
   "execution_count": 6,
   "metadata": {
    "collapsed": false
   },
   "outputs": [
    {
     "name": "stdout",
     "output_type": "stream",
     "text": [
      "simple_lifetime customer value: 2096.410374\n",
      "traditional_lifetime customer value: 4716.9233415\n",
      "lifetime customer value: 1048.205187\n",
      "average_lifetime customer value: 2620.5129675\n"
     ]
    }
   ],
   "source": [
    "print 'simple_lifetime customer value:', telco_churn_1.simple_lifetime()\n",
    "print 'traditional_lifetime customer value:',telco_churn_1.traditional_lifetime()\n",
    "print 'lifetime customer value:', telco_churn_1.lifetime()\n",
    "# average_lifetime is the average of the three different ways to calculate customer lifetime value\n",
    "print 'average_lifetime customer value:', telco_churn_1.average_lifetime()\n"
   ]
  },
  {
   "cell_type": "code",
   "execution_count": 7,
   "metadata": {
    "collapsed": false
   },
   "outputs": [
    {
     "name": "stdout",
     "output_type": "stream",
     "text": [
      "2096.410374\n",
      "2795.213832\n",
      "1048.205187\n",
      "1979.943131\n"
     ]
    }
   ],
   "source": [
    "# change the churn rate\n",
    "churn_rate = .2\n",
    "retention = 1 - churn_rate \n",
    "telco_churn_2 = customer_lifetime_value(monthly_bill, average_customer_lifespan, \n",
    "                 churn_rate, profit_margin, rate_discount,\n",
    "                           gross_margin)\n",
    "\n",
    "print telco_churn_2.simple_lifetime()\n",
    "print telco_churn_2.traditional_lifetime()\n",
    "print telco_churn_2.lifetime()\n",
    "print telco_churn_2.average_lifetime()"
   ]
  },
  {
   "cell_type": "code",
   "execution_count": 78,
   "metadata": {
    "collapsed": false
   },
   "outputs": [
    {
     "name": "stdout",
     "output_type": "stream",
     "text": [
      "revenue_saved 600000.0\n",
      "gross profits 50000000.0\n",
      "6660000.0\n",
      "7260000.0\n"
     ]
    }
   ],
   "source": [
    "# if you have 1 million subscribers, with a churn rate of 2%, and an average monthly revenue per user of $100 dollars\n",
    "num_subscribers = 1.0e6\n",
    "monthly_churn = .0121    \n",
    "new_monthly_churn = .0111\n",
    "monthly_rev_per_user = 50.\n",
    "\n",
    "\n",
    "def revenue_saved(num_subscribers, monthly_churn, new_monthly_churn, monthly_rev_per_user):\n",
    "    \"\"\"returns the amount of revenue saved by decreasing/increasing churn rates. input: num_subscribers\n",
    "    is the number of subscribers, monthly_churn is the current monthly churn, new_monthly_churn is\n",
    "    the new monthly churn you would like, and monthly_rev_per_user is the amount of monthly revenue acquired\n",
    "    from each subscriber\"\"\"\n",
    "    revenue_1 = num_subscribers * monthly_churn * monthly_rev_per_user * 12\n",
    "    revenue_2 = num_subscribers * new_monthly_churn * monthly_rev_per_user * 12\n",
    "    revenue_final = revenue_1 - revenue_2 \n",
    "    return revenue_final\n",
    "    \n",
    "better_churn = revenue_saved(num_subscribers, monthly_churn, new_monthly_churn, monthly_rev_per_user)\n",
    "\n",
    "print \"revenue_saved\", better_churn\n",
    "print \"gross profits\", monthly_rev_per_user* num_subscribers\n",
    "\n",
    "print num_subscribers * new_monthly_churn * monthly_rev_per_user * 12\n",
    "print num_subscribers * monthly_churn * monthly_rev_per_user * 12\n"
   ]
  },
  {
   "cell_type": "code",
   "execution_count": 23,
   "metadata": {
    "collapsed": false
   },
   "outputs": [
    {
     "name": "stdout",
     "output_type": "stream",
     "text": [
      "at an annual churn rate of 0.22 you need re-acquire 21.53 customers for every 100 customer.\n",
      "this means to grow by 1 customer, you need to acquire 21.53\n"
     ]
    }
   ],
   "source": [
    "import math\n",
    "# http://sixteenventures.com/saas-churn-rate (cite this if you use their txt)\n",
    "def annual_churn_rate(churn_rate):\n",
    "    \"\"\"input your montly churn rate to calculate your annual churn rate\"\"\"\n",
    "    retention_rate_per_year = (1-churn_rate)**12\n",
    "    c_rate = 1 - retention_rate_per_year \n",
    "    return c_rate\n",
    "    \n",
    "churn_rate = .02\n",
    "\n",
    "churn_percent = annual_churn_rate(churn_rate)\n",
    "\n",
    "print \"at an annual churn rate of {0} you need re-acquire {1} customers for every 100 customer.\".format(\"%.2f\" % churn_percent, \\\n",
    "                                                                             \"%.2f\" % (churn_percent*100))\n",
    "print \"this means to grow by 1 customer, you need to acquire {0}\".format(\"%.2f\" % (churn_percent*100))"
   ]
  },
  {
   "cell_type": "code",
   "execution_count": null,
   "metadata": {
    "collapsed": true
   },
   "outputs": [],
   "source": []
  }
 ],
 "metadata": {
  "kernelspec": {
   "display_name": "Python 2",
   "language": "python",
   "name": "python2"
  },
  "language_info": {
   "codemirror_mode": {
    "name": "ipython",
    "version": 2
   },
   "file_extension": ".py",
   "mimetype": "text/x-python",
   "name": "python",
   "nbconvert_exporter": "python",
   "pygments_lexer": "ipython2",
   "version": "2.7.11"
  }
 },
 "nbformat": 4,
 "nbformat_minor": 0
}
