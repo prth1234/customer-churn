{
 "cells": [
  {
   "cell_type": "code",
   "execution_count": 6,
   "metadata": {
    "collapsed": false
   },
   "outputs": [],
   "source": [
    "# h2o.cluster().shutdown()"
   ]
  },
  {
   "cell_type": "code",
   "execution_count": 7,
   "metadata": {
    "collapsed": false
   },
   "outputs": [
    {
     "name": "stdout",
     "output_type": "stream",
     "text": [
      "Checking whether there is an H2O instance running at http://localhost:54321..... not found.\n",
      "Attempting to start a local H2O server...\n",
      "  Java Version: java version \"1.8.0_73\"; Java(TM) SE Runtime Environment (build 1.8.0_73-b02); Java HotSpot(TM) 64-Bit Server VM (build 25.73-b02, mixed mode)\n",
      "  Starting server from /usr/local/h2o_jar/h2o.jar\n",
      "  Ice root: /var/folders/k_/kpp1czqs3957vq2pr5qngck00000gn/T/tmpezkvXm\n",
      "  JVM stdout: /var/folders/k_/kpp1czqs3957vq2pr5qngck00000gn/T/tmpezkvXm/h2o_laurend_started_from_python.out\n",
      "  JVM stderr: /var/folders/k_/kpp1czqs3957vq2pr5qngck00000gn/T/tmpezkvXm/h2o_laurend_started_from_python.err\n",
      "  Server is running at http://127.0.0.1:54321\n",
      "Connecting to H2O server at http://127.0.0.1:54321... successful.\n"
     ]
    }
   ],
   "source": [
    "import h2o\n",
    "import numpy as np\n",
    "import math\n",
    "import warnings\n",
    "warnings.filterwarnings('ignore', category=DeprecationWarning, module='.*/jupyter/.*')\n",
    "h2o.init(nthreads = -1)\n"
   ]
  },
  {
   "cell_type": "code",
   "execution_count": 8,
   "metadata": {
    "collapsed": false
   },
   "outputs": [
    {
     "name": "stdout",
     "output_type": "stream",
     "text": [
      "Parse progress: |█████████████████████████████████████████████████████████████████████████████| 100%\n"
     ]
    }
   ],
   "source": [
    "# A small clean telecommunications sample dataset (https://www.ibm.com/communities/analytics/watson-analytics-blog/predictive-insights-in-the-telco-customer-churn-data-set/\n",
    "telco_dataset = h2o.import_file(\"https://s3.amazonaws.com/h2o-smalldata/TelcoChurn.csv\")"
   ]
  },
  {
   "cell_type": "code",
   "execution_count": 9,
   "metadata": {
    "collapsed": false
   },
   "outputs": [],
   "source": [
    "# update the telco data format: \n",
    "# change SeniorCitizen to 'yes'/ 'no'\n",
    "telco_dataset['SeniorCitizen'] = (telco_dataset['SeniorCitizen'] == 1).ifelse('Yes','No')\n",
    "# Add the same form of capitalization across variables\n",
    "# columns changed were: customerID, gender, tenure\n",
    "telco_dataset.columns =[u'CustomerID',\n",
    " u'Gender',\n",
    " u'SeniorCitizen',\n",
    " u'Partner',\n",
    " u'Dependents',\n",
    " u'Tenure',\n",
    " u'PhoneService',\n",
    " u'MultipleLines',\n",
    " u'InternetService',\n",
    " u'OnlineSecurity',\n",
    " u'OnlineBackup',\n",
    " u'DeviceProtection',\n",
    " u'TechSupport',\n",
    " u'StreamingTV',\n",
    " u'StreamingMovies',\n",
    " u'Contract',\n",
    " u'PaperlessBilling',\n",
    " u'PaymentMethod',\n",
    " u'MonthlyCharges',\n",
    " u'TotalCharges',\n",
    " u'Churn']"
   ]
  },
  {
   "cell_type": "code",
   "execution_count": 10,
   "metadata": {
    "collapsed": false
   },
   "outputs": [
    {
     "name": "stdout",
     "output_type": "stream",
     "text": [
      "[0.0, 0.0, 0.0, 0.0, 0.0, 0.0, 0.0, 0.0, 0.0, 0.0, 0.0, 0.0, 0.0, 0.0, 0.0, 0.0, 0.0, 0.0, 0.0, 11.0, 0.0]\n",
      "Rows:7,043 Cols:21\n",
      "\n",
      "Chunk compression summary: \n"
     ]
    },
    {
     "data": {
      "text/html": [
       "<div style=\"overflow:auto\"><table style=\"width:50%\"><tr><td><b>chunk_type</b></td>\n",
       "<td><b>chunk_name</b></td>\n",
       "<td><b>count</b></td>\n",
       "<td><b>count_percentage</b></td>\n",
       "<td><b>size</b></td>\n",
       "<td><b>size_percentage</b></td></tr>\n",
       "<tr><td>CBS</td>\n",
       "<td>Bits</td>\n",
       "<td>7</td>\n",
       "<td>33.3333343</td>\n",
       "<td>    6.5 KB</td>\n",
       "<td>2.8568119</td></tr>\n",
       "<tr><td>C1N</td>\n",
       "<td>1-Byte Integers (w/o NAs)</td>\n",
       "<td>11</td>\n",
       "<td>52.3809552</td>\n",
       "<td>   76.4 KB</td>\n",
       "<td>33.5680753</td></tr>\n",
       "<tr><td>C2S</td>\n",
       "<td>2-Byte Fractions</td>\n",
       "<td>1</td>\n",
       "<td>4.7619049</td>\n",
       "<td>   13.8 KB</td>\n",
       "<td>6.0809709</td></tr>\n",
       "<tr><td>C4S</td>\n",
       "<td>4-Byte Fractions</td>\n",
       "<td>1</td>\n",
       "<td>4.7619049</td>\n",
       "<td>   27.6 KB</td>\n",
       "<td>12.1258937</td></tr>\n",
       "<tr><td>CStr</td>\n",
       "<td>String</td>\n",
       "<td>1</td>\n",
       "<td>4.7619049</td>\n",
       "<td>  103.2 KB</td>\n",
       "<td>45.3682482</td></tr></table></div>"
      ],
      "text/plain": [
       "chunk_type    chunk_name                 count    count_percentage    size      size_percentage\n",
       "------------  -------------------------  -------  ------------------  --------  -----------------\n",
       "CBS           Bits                       7        33.3333             6.5 KB    2.85681\n",
       "C1N           1-Byte Integers (w/o NAs)  11       52.381              76.4 KB   33.5681\n",
       "C2S           2-Byte Fractions           1        4.7619              13.8 KB   6.08097\n",
       "C4S           4-Byte Fractions           1        4.7619              27.6 KB   12.1259\n",
       "CStr          String                     1        4.7619              103.2 KB  45.3682"
      ]
     },
     "metadata": {},
     "output_type": "display_data"
    },
    {
     "name": "stdout",
     "output_type": "stream",
     "text": [
      "\n",
      "Frame distribution summary: \n"
     ]
    },
    {
     "data": {
      "text/html": [
       "<div style=\"overflow:auto\"><table style=\"width:50%\"><tr><td><b></b></td>\n",
       "<td><b>size</b></td>\n",
       "<td><b>number_of_rows</b></td>\n",
       "<td><b>number_of_chunks_per_column</b></td>\n",
       "<td><b>number_of_chunks</b></td></tr>\n",
       "<tr><td>127.0.0.1:54321</td>\n",
       "<td>  227.6 KB</td>\n",
       "<td>7043.0</td>\n",
       "<td>1.0</td>\n",
       "<td>21.0</td></tr>\n",
       "<tr><td>mean</td>\n",
       "<td>  227.6 KB</td>\n",
       "<td>7043.0</td>\n",
       "<td>1.0</td>\n",
       "<td>21.0</td></tr>\n",
       "<tr><td>min</td>\n",
       "<td>  227.6 KB</td>\n",
       "<td>7043.0</td>\n",
       "<td>1.0</td>\n",
       "<td>21.0</td></tr>\n",
       "<tr><td>max</td>\n",
       "<td>  227.6 KB</td>\n",
       "<td>7043.0</td>\n",
       "<td>1.0</td>\n",
       "<td>21.0</td></tr>\n",
       "<tr><td>stddev</td>\n",
       "<td>      0  B</td>\n",
       "<td>0.0</td>\n",
       "<td>0.0</td>\n",
       "<td>0.0</td></tr>\n",
       "<tr><td>total</td>\n",
       "<td>  227.6 KB</td>\n",
       "<td>7043.0</td>\n",
       "<td>1.0</td>\n",
       "<td>21.0</td></tr></table></div>"
      ],
      "text/plain": [
       "                 size      number_of_rows    number_of_chunks_per_column    number_of_chunks\n",
       "---------------  --------  ----------------  -----------------------------  ------------------\n",
       "127.0.0.1:54321  227.6 KB  7043              1                              21\n",
       "mean             227.6 KB  7043              1                              21\n",
       "min              227.6 KB  7043              1                              21\n",
       "max              227.6 KB  7043              1                              21\n",
       "stddev           0  B      0                 0                              0\n",
       "total            227.6 KB  7043              1                              21"
      ]
     },
     "metadata": {},
     "output_type": "display_data"
    },
    {
     "name": "stdout",
     "output_type": "stream",
     "text": [
      "\n",
      "\n"
     ]
    },
    {
     "data": {
      "text/html": [
       "<table>\n",
       "<tr><th>       </th><th>CustomerID  </th><th>Gender        </th><th>SeniorCitizen  </th><th>Partner       </th><th>Dependents    </th><th>Tenure       </th><th>PhoneService  </th><th>MultipleLines   </th><th>InternetService  </th><th>OnlineSecurity  </th><th>OnlineBackup  </th><th>DeviceProtection  </th><th>TechSupport  </th><th>StreamingTV  </th><th>StreamingMovies  </th><th>Contract      </th><th>PaperlessBilling  </th><th>PaymentMethod            </th><th>MonthlyCharges  </th><th>TotalCharges  </th><th>Churn         </th></tr>\n",
       "<tr><td>type   </td><td>string      </td><td>enum          </td><td>enum           </td><td>enum          </td><td>enum          </td><td>int          </td><td>enum          </td><td>enum            </td><td>enum             </td><td>enum            </td><td>enum          </td><td>enum              </td><td>enum         </td><td>enum         </td><td>enum             </td><td>enum          </td><td>enum              </td><td>enum                     </td><td>real            </td><td>real          </td><td>enum          </td></tr>\n",
       "<tr><td>mins   </td><td>NaN         </td><td>0.0           </td><td>0.0            </td><td>0.0           </td><td>0.0           </td><td>0.0          </td><td>0.0           </td><td>0.0             </td><td>0.0              </td><td>0.0             </td><td>0.0           </td><td>0.0               </td><td>0.0          </td><td>0.0          </td><td>0.0              </td><td>0.0           </td><td>0.0               </td><td>0.0                      </td><td>18.25           </td><td>18.8          </td><td>0.0           </td></tr>\n",
       "<tr><td>mean   </td><td>NaN         </td><td>0.504756495811</td><td>0.162146812438 </td><td>0.483032798523</td><td>0.299588243646</td><td>32.3711486582</td><td>0.903166264376</td><td>NaN             </td><td>NaN              </td><td>NaN             </td><td>NaN           </td><td>NaN               </td><td>NaN          </td><td>NaN          </td><td>NaN              </td><td>NaN           </td><td>0.592219224762    </td><td>NaN                      </td><td>64.7616924606   </td><td>2283.30044084 </td><td>0.265369870794</td></tr>\n",
       "<tr><td>maxs   </td><td>NaN         </td><td>1.0           </td><td>1.0            </td><td>1.0           </td><td>1.0           </td><td>72.0         </td><td>1.0           </td><td>2.0             </td><td>2.0              </td><td>2.0             </td><td>2.0           </td><td>2.0               </td><td>2.0          </td><td>2.0          </td><td>2.0              </td><td>2.0           </td><td>1.0               </td><td>3.0                      </td><td>118.75          </td><td>8684.8        </td><td>1.0           </td></tr>\n",
       "<tr><td>sigma  </td><td>NaN         </td><td>0.500012873647</td><td>0.36861160561  </td><td>0.49974751072 </td><td>0.45811016751 </td><td>24.5594810231</td><td>0.295752231784</td><td>NaN             </td><td>NaN              </td><td>NaN             </td><td>NaN           </td><td>NaN               </td><td>NaN          </td><td>NaN          </td><td>NaN              </td><td>NaN           </td><td>0.491456924049    </td><td>NaN                      </td><td>30.0900470977   </td><td>2266.77136188 </td><td>0.441561305122</td></tr>\n",
       "<tr><td>zeros  </td><td>0           </td><td>3488          </td><td>5901           </td><td>3641          </td><td>4933          </td><td>11           </td><td>682           </td><td>3390            </td><td>2421             </td><td>3498            </td><td>3088          </td><td>3095              </td><td>3473         </td><td>2810         </td><td>2785             </td><td>3875          </td><td>2872              </td><td>1544                     </td><td>0               </td><td>0             </td><td>5174          </td></tr>\n",
       "<tr><td>missing</td><td>0           </td><td>0             </td><td>0              </td><td>0             </td><td>0             </td><td>0            </td><td>0             </td><td>0               </td><td>0                </td><td>0               </td><td>0             </td><td>0                 </td><td>0            </td><td>0            </td><td>0                </td><td>0             </td><td>0                 </td><td>0                        </td><td>0               </td><td>11            </td><td>0             </td></tr>\n",
       "<tr><td>0      </td><td>7590-VHVEG  </td><td>Female        </td><td>No             </td><td>Yes           </td><td>No            </td><td>1.0          </td><td>No            </td><td>No phone service</td><td>DSL              </td><td>No              </td><td>Yes           </td><td>No                </td><td>No           </td><td>No           </td><td>No               </td><td>Month-to-month</td><td>Yes               </td><td>Electronic check         </td><td>29.85           </td><td>29.85         </td><td>No            </td></tr>\n",
       "<tr><td>1      </td><td>5575-GNVDE  </td><td>Male          </td><td>No             </td><td>No            </td><td>No            </td><td>34.0         </td><td>Yes           </td><td>No              </td><td>DSL              </td><td>Yes             </td><td>No            </td><td>Yes               </td><td>No           </td><td>No           </td><td>No               </td><td>One year      </td><td>No                </td><td>Mailed check             </td><td>56.95           </td><td>1889.5        </td><td>No            </td></tr>\n",
       "<tr><td>2      </td><td>3668-QPYBK  </td><td>Male          </td><td>No             </td><td>No            </td><td>No            </td><td>2.0          </td><td>Yes           </td><td>No              </td><td>DSL              </td><td>Yes             </td><td>Yes           </td><td>No                </td><td>No           </td><td>No           </td><td>No               </td><td>Month-to-month</td><td>Yes               </td><td>Mailed check             </td><td>53.85           </td><td>108.15        </td><td>Yes           </td></tr>\n",
       "<tr><td>3      </td><td>7795-CFOCW  </td><td>Male          </td><td>No             </td><td>No            </td><td>No            </td><td>45.0         </td><td>No            </td><td>No phone service</td><td>DSL              </td><td>Yes             </td><td>No            </td><td>Yes               </td><td>Yes          </td><td>No           </td><td>No               </td><td>One year      </td><td>No                </td><td>Bank transfer (automatic)</td><td>42.3            </td><td>1840.75       </td><td>No            </td></tr>\n",
       "<tr><td>4      </td><td>9237-HQITU  </td><td>Female        </td><td>No             </td><td>No            </td><td>No            </td><td>2.0          </td><td>Yes           </td><td>No              </td><td>Fiber optic      </td><td>No              </td><td>No            </td><td>No                </td><td>No           </td><td>No           </td><td>No               </td><td>Month-to-month</td><td>Yes               </td><td>Electronic check         </td><td>70.7            </td><td>151.65        </td><td>Yes           </td></tr>\n",
       "<tr><td>5      </td><td>9305-CDSKC  </td><td>Female        </td><td>No             </td><td>No            </td><td>No            </td><td>8.0          </td><td>Yes           </td><td>Yes             </td><td>Fiber optic      </td><td>No              </td><td>No            </td><td>Yes               </td><td>No           </td><td>Yes          </td><td>Yes              </td><td>Month-to-month</td><td>Yes               </td><td>Electronic check         </td><td>99.65           </td><td>820.5         </td><td>Yes           </td></tr>\n",
       "<tr><td>6      </td><td>1452-KIOVK  </td><td>Male          </td><td>No             </td><td>No            </td><td>Yes           </td><td>22.0         </td><td>Yes           </td><td>Yes             </td><td>Fiber optic      </td><td>No              </td><td>Yes           </td><td>No                </td><td>No           </td><td>Yes          </td><td>No               </td><td>Month-to-month</td><td>Yes               </td><td>Credit card (automatic)  </td><td>89.1            </td><td>1949.4        </td><td>No            </td></tr>\n",
       "<tr><td>7      </td><td>6713-OKOMC  </td><td>Female        </td><td>No             </td><td>No            </td><td>No            </td><td>10.0         </td><td>No            </td><td>No phone service</td><td>DSL              </td><td>Yes             </td><td>No            </td><td>No                </td><td>No           </td><td>No           </td><td>No               </td><td>Month-to-month</td><td>No                </td><td>Mailed check             </td><td>29.75           </td><td>301.9         </td><td>No            </td></tr>\n",
       "<tr><td>8      </td><td>7892-POOKP  </td><td>Female        </td><td>No             </td><td>Yes           </td><td>No            </td><td>28.0         </td><td>Yes           </td><td>Yes             </td><td>Fiber optic      </td><td>No              </td><td>No            </td><td>Yes               </td><td>Yes          </td><td>Yes          </td><td>Yes              </td><td>Month-to-month</td><td>Yes               </td><td>Electronic check         </td><td>104.8           </td><td>3046.05       </td><td>Yes           </td></tr>\n",
       "<tr><td>9      </td><td>6388-TABGU  </td><td>Male          </td><td>No             </td><td>No            </td><td>Yes           </td><td>62.0         </td><td>Yes           </td><td>No              </td><td>DSL              </td><td>Yes             </td><td>Yes           </td><td>No                </td><td>No           </td><td>No           </td><td>No               </td><td>One year      </td><td>No                </td><td>Bank transfer (automatic)</td><td>56.15           </td><td>3487.95       </td><td>No            </td></tr>\n",
       "</table>"
      ]
     },
     "metadata": {},
     "output_type": "display_data"
    }
   ],
   "source": [
    "# get a summary of the dataset\n",
    "print telco_dataset.nacnt()\n",
    "telco_dataset.describe()"
   ]
  },
  {
   "cell_type": "code",
   "execution_count": 11,
   "metadata": {
    "collapsed": false
   },
   "outputs": [
    {
     "data": {
      "text/plain": [
       "[u'CustomerID',\n",
       " u'Gender',\n",
       " u'SeniorCitizen',\n",
       " u'Partner',\n",
       " u'Dependents',\n",
       " u'Tenure',\n",
       " u'PhoneService',\n",
       " u'MultipleLines',\n",
       " u'InternetService',\n",
       " u'OnlineSecurity',\n",
       " u'OnlineBackup',\n",
       " u'DeviceProtection',\n",
       " u'TechSupport',\n",
       " u'StreamingTV',\n",
       " u'StreamingMovies',\n",
       " u'Contract',\n",
       " u'PaperlessBilling',\n",
       " u'PaymentMethod',\n",
       " u'MonthlyCharges',\n",
       " u'TotalCharges',\n",
       " u'Churn']"
      ]
     },
     "execution_count": 11,
     "metadata": {},
     "output_type": "execute_result"
    }
   ],
   "source": [
    "# what does each column tell you, make sure type is correct, and see if new features need to be created with strings\n",
    "telco_dataset.columns"
   ]
  },
  {
   "cell_type": "code",
   "execution_count": 12,
   "metadata": {
    "collapsed": false
   },
   "outputs": [
    {
     "data": {
      "text/plain": [
       "7043"
      ]
     },
     "execution_count": 12,
     "metadata": {},
     "output_type": "execute_result"
    }
   ],
   "source": [
    "# check whether the customerID column is unique per row, if so use as an index and remove from the predictors\n",
    "telco_dataset['CustomerID'].asfactor().unique().nrow\n"
   ]
  },
  {
   "cell_type": "code",
   "execution_count": 13,
   "metadata": {
    "collapsed": false
   },
   "outputs": [],
   "source": [
    "# select all columns as predictors except the customerID (which is like an index) and the response column\n",
    "features_list = list(telco_dataset.columns[1:-1])\n",
    "response_name = 'Churn'"
   ]
  },
  {
   "cell_type": "code",
   "execution_count": 14,
   "metadata": {
    "collapsed": false
   },
   "outputs": [
    {
     "name": "stdout",
     "output_type": "stream",
     "text": [
      "the response classes are:Warning: Method make_url in class H2OConnection is deprecated.\n",
      " [['No', 'Yes']]\n",
      "number of classes:Warning: Method make_url in class H2OConnection is deprecated.\n",
      " [2]\n",
      "\n",
      "Is the response column a categorical: [True]\n",
      "Warning: Method make_url in class H2OConnection is deprecated.\n",
      "\n",
      "there are 11.0 missing values in the dataset\n",
      "there are 0.0 missing values in the labels\n",
      "\n",
      "check for class imbalace\n",
      "------------------------\n",
      "the dataset is not imbalanced, neither class is less then 10% of the whole (as shown below)\n"
     ]
    },
    {
     "data": {
      "text/html": [
       "<table>\n",
       "<tr><th style=\"text-align: right;\">  Count</th></tr>\n",
       "<tr><td style=\"text-align: right;\">0.73463</td></tr>\n",
       "<tr><td style=\"text-align: right;\">0.26537</td></tr>\n",
       "</table>"
      ]
     },
     "metadata": {},
     "output_type": "display_data"
    },
    {
     "data": {
      "text/plain": []
     },
     "execution_count": 14,
     "metadata": {},
     "output_type": "execute_result"
    }
   ],
   "source": [
    "# specify the response column\n",
    "response_col = telco_dataset[response_name]\n",
    "# get a list of the categorical levels in your response column\n",
    "print 'the response classes are:',response_col.levels()\n",
    "print 'number of classes:', response_col.nlevels()\n",
    "print ''\n",
    "# check that the response column is already interpreted as a factor (i.e. enum/categorical)\n",
    "print 'Is the response column a categorical:',response_col.isfactor()\n",
    "# check that there are two levels in our response column:\n",
    "response_col.nlevels()\n",
    "print ''\n",
    "# check for missing values in the training set and specifically the response column\n",
    "print 'there are {0} missing values in the dataset'.format(telco_dataset.isna().sum())\n",
    "print 'there are {0} missing values in the labels'.format(telco_dataset[response_col].isna().sum())\n",
    "print ''\n",
    "\n",
    "print 'check for class imbalace'\n",
    "print '------------------------'\n",
    "num_train_samples = telco_dataset.shape[0]  # Total number of training samples\n",
    "print 'the dataset is not imbalanced, neither class is less then 10% of the whole (as shown below)'\n",
    "telco_dataset[response_name].table()['Count']/num_train_samples\n",
    "\n"
   ]
  },
  {
   "cell_type": "code",
   "execution_count": 15,
   "metadata": {
    "collapsed": false
   },
   "outputs": [
    {
     "name": "stdout",
     "output_type": "stream",
     "text": [
      "0.0\n"
     ]
    }
   ],
   "source": [
    "# create a new column that is the same as tenure but it replaces tenure = 0 with tenure = 1\n",
    "# tenure = 0 corresponds to people who have be a customer less then a month but have still payed\n",
    "# the monthly fee:\n",
    "telco_dataset['new_tenure_col'] = (telco_dataset['Tenure'] == 0).ifelse(1, telco_dataset['Tenure'])\n",
    "\n",
    "# impute TotalCharges from MonthlyCharges and tenure (i.e. TotalCharges = tenure * MonthlyCharges)\n",
    "# if TotalCharges value is missing fill in, if not leave as is\n",
    "telco_dataset['TotalCharges'] = (telco_dataset['TotalCharges'].isna() == 1).ifelse(\n",
    "    (telco_dataset['MonthlyCharges']  * telco_dataset['new_tenure_col']), telco_dataset['TotalCharges'])\n",
    "\n",
    "# remove new tenure col when done\n",
    "telco_dataset= telco_dataset.drop('new_tenure_col')\n",
    "# check that there are no more missing values\n",
    "print telco_dataset['TotalCharges'].isna().sum()"
   ]
  },
  {
   "cell_type": "code",
   "execution_count": 16,
   "metadata": {
    "collapsed": false
   },
   "outputs": [
    {
     "name": "stdout",
     "output_type": "stream",
     "text": [
      "Gender      Count\n",
      "--------  -------\n",
      "Female       3488\n",
      "Male         3555\n",
      "\n",
      "[2 rows x 2 columns]\n",
      "~~~~~~~~~~~~~~~~~~~~~~~~~~~~~~~~~~~~~~\n",
      "SeniorCitizen      Count\n",
      "---------------  -------\n",
      "No                  5901\n",
      "Yes                 1142\n",
      "\n",
      "[2 rows x 2 columns]\n",
      "~~~~~~~~~~~~~~~~~~~~~~~~~~~~~~~~~~~~~~\n",
      "Partner      Count\n",
      "---------  -------\n",
      "No            3641\n",
      "Yes           3402\n",
      "\n",
      "[2 rows x 2 columns]\n",
      "~~~~~~~~~~~~~~~~~~~~~~~~~~~~~~~~~~~~~~\n",
      "Dependents      Count\n",
      "------------  -------\n",
      "No               4933\n",
      "Yes              2110\n",
      "\n",
      "[2 rows x 2 columns]\n",
      "~~~~~~~~~~~~~~~~~~~~~~~~~~~~~~~~~~~~~~\n",
      "  Tenure    Count\n",
      "--------  -------\n",
      "       0       11\n",
      "       1      613\n",
      "       2      238\n",
      "       3      200\n",
      "       4      176\n",
      "       5      133\n",
      "       6      110\n",
      "       7      131\n",
      "       8      123\n",
      "       9      119\n",
      "\n",
      "[73 rows x 2 columns]\n",
      "~~~~~~~~~~~~~~~~~~~~~~~~~~~~~~~~~~~~~~\n",
      "PhoneService      Count\n",
      "--------------  -------\n",
      "No                  682\n",
      "Yes                6361\n",
      "\n",
      "[2 rows x 2 columns]\n",
      "~~~~~~~~~~~~~~~~~~~~~~~~~~~~~~~~~~~~~~\n",
      "MultipleLines       Count\n",
      "----------------  -------\n",
      "No                   3390\n",
      "No phone service      682\n",
      "Yes                  2971\n",
      "\n",
      "[3 rows x 2 columns]\n",
      "~~~~~~~~~~~~~~~~~~~~~~~~~~~~~~~~~~~~~~\n",
      "InternetService      Count\n",
      "-----------------  -------\n",
      "DSL                   2421\n",
      "Fiber optic           3096\n",
      "No                    1526\n",
      "\n",
      "[3 rows x 2 columns]\n",
      "~~~~~~~~~~~~~~~~~~~~~~~~~~~~~~~~~~~~~~\n",
      "OnlineSecurity         Count\n",
      "-------------------  -------\n",
      "No                      3498\n",
      "No internet service     1526\n",
      "Yes                     2019\n",
      "\n",
      "[3 rows x 2 columns]\n",
      "~~~~~~~~~~~~~~~~~~~~~~~~~~~~~~~~~~~~~~\n",
      "OnlineBackup           Count\n",
      "-------------------  -------\n",
      "No                      3088\n",
      "No internet service     1526\n",
      "Yes                     2429\n",
      "\n",
      "[3 rows x 2 columns]\n",
      "~~~~~~~~~~~~~~~~~~~~~~~~~~~~~~~~~~~~~~\n",
      "DeviceProtection       Count\n",
      "-------------------  -------\n",
      "No                      3095\n",
      "No internet service     1526\n",
      "Yes                     2422\n",
      "\n",
      "[3 rows x 2 columns]\n",
      "~~~~~~~~~~~~~~~~~~~~~~~~~~~~~~~~~~~~~~\n",
      "TechSupport            Count\n",
      "-------------------  -------\n",
      "No                      3473\n",
      "No internet service     1526\n",
      "Yes                     2044\n",
      "\n",
      "[3 rows x 2 columns]\n",
      "~~~~~~~~~~~~~~~~~~~~~~~~~~~~~~~~~~~~~~\n",
      "StreamingTV            Count\n",
      "-------------------  -------\n",
      "No                      2810\n",
      "No internet service     1526\n",
      "Yes                     2707\n",
      "\n",
      "[3 rows x 2 columns]\n",
      "~~~~~~~~~~~~~~~~~~~~~~~~~~~~~~~~~~~~~~\n",
      "StreamingMovies        Count\n",
      "-------------------  -------\n",
      "No                      2785\n",
      "No internet service     1526\n",
      "Yes                     2732\n",
      "\n",
      "[3 rows x 2 columns]\n",
      "~~~~~~~~~~~~~~~~~~~~~~~~~~~~~~~~~~~~~~\n",
      "Contract          Count\n",
      "--------------  -------\n",
      "Month-to-month     3875\n",
      "One year           1473\n",
      "Two year           1695\n",
      "\n",
      "[3 rows x 2 columns]\n",
      "~~~~~~~~~~~~~~~~~~~~~~~~~~~~~~~~~~~~~~\n",
      "PaperlessBilling      Count\n",
      "------------------  -------\n",
      "No                     2872\n",
      "Yes                    4171\n",
      "\n",
      "[2 rows x 2 columns]\n",
      "~~~~~~~~~~~~~~~~~~~~~~~~~~~~~~~~~~~~~~\n",
      "PaymentMethod                Count\n",
      "-------------------------  -------\n",
      "Bank transfer (automatic)     1544\n",
      "Credit card (automatic)       1522\n",
      "Electronic check              2365\n",
      "Mailed check                  1612\n",
      "\n",
      "[4 rows x 2 columns]\n",
      "~~~~~~~~~~~~~~~~~~~~~~~~~~~~~~~~~~~~~~\n"
     ]
    }
   ],
   "source": [
    "# print out the count for each categorical feature level (this excludes monthly charges and total charges)\n",
    "for column_name in telco_dataset.columns[1:-3]:\n",
    "    print telco_dataset[str(column_name)].table()\n",
    "    print '~~~~~~~~~~~~~~~~~~~~~~~~~~~~~~~~~~~~~~'\n",
    "    "
   ]
  },
  {
   "cell_type": "code",
   "execution_count": 17,
   "metadata": {
    "collapsed": true
   },
   "outputs": [],
   "source": [
    "# split your datasets and set seed so the split is the same each time the code is run\n",
    "train, valid, test = telco_dataset.split_frame(ratios=[0.70,0.15], seed=1234)"
   ]
  },
  {
   "cell_type": "code",
   "execution_count": 18,
   "metadata": {
    "collapsed": false
   },
   "outputs": [
    {
     "name": "stdout",
     "output_type": "stream",
     "text": [
      "(4945, 21)\n",
      "(1040, 21)\n",
      "(1058, 21)\n",
      "7043\n"
     ]
    }
   ],
   "source": [
    "# check that the split went as expected, print out the dimensions of each dataset\n",
    "# and then print their sum\n",
    "print train.shape\n",
    "print valid.shape\n",
    "print test.shape\n",
    "print train.shape[0] + valid.shape[0] + test.shape[0]"
   ]
  },
  {
   "cell_type": "code",
   "execution_count": 19,
   "metadata": {
    "collapsed": false
   },
   "outputs": [
    {
     "name": "stdout",
     "output_type": "stream",
     "text": [
      "gbm Model Build progress: |███████████████████████████████████████████████████████████████████| 100%\n",
      "train auc: 0.901181015724\n",
      "validation auc: 0.848169251566\n"
     ]
    }
   ],
   "source": [
    "# run gbm estimator with the default parameters to establish a benchmark model \n",
    "\n",
    "# import GBM estimator with default parameters (set seed for reproducibility)\n",
    "from h2o.estimators.gbm import H2OGradientBoostingEstimator\n",
    "default_model = H2OGradientBoostingEstimator(distribution= 'bernoulli', seed = 1234)\n",
    "\n",
    "# train the default model\n",
    "default_model.train(x=features_list, y=response_name, training_frame=train)\n",
    "\n",
    "# get the AUC for the training set\n",
    "print 'train auc:', default_model.auc() \n",
    "\n",
    "# get the AUC for the validation set\n",
    "default_perf_on_valid = default_model.model_performance(valid)\n",
    "print 'validation auc:', default_perf_on_valid.auc()"
   ]
  },
  {
   "cell_type": "code",
   "execution_count": 20,
   "metadata": {
    "collapsed": false
   },
   "outputs": [
    {
     "name": "stdout",
     "output_type": "stream",
     "text": [
      "gbm Model Build progress: |███████████████████████████████████████████████████████████████████| 100%\n",
      "train auc: 0.868925335403\n",
      "validation auc: 0.847847047594\n"
     ]
    }
   ],
   "source": [
    "# using parameters from https://github.com/h2oai/h2o-3/blob/master/h2o-docs/src/product/tutorials/gbm/gbmTuning.ipynb\n",
    "# this model overfits less on the training set\n",
    "model_0 = H2OGradientBoostingEstimator(distribution='bernoulli',\n",
    "                                    ntrees=10000,\n",
    "                                    max_depth=4,\n",
    "                                    learn_rate=0.01,\n",
    "                                    stopping_rounds = 5, stopping_tolerance = 1e-4, stopping_metric = \"AUC\",\n",
    "                                    sample_rate = 0.8,\n",
    "                                    col_sample_rate = 0.8,\n",
    "                                    seed = 1234,\n",
    "                                    score_tree_interval = 10)\n",
    "\n",
    "model_0.train(x=features_list, \n",
    "              y=response_name, \n",
    "              training_frame=train,\n",
    "              validation_frame = valid)\n",
    "\n",
    "# get the AUC for the training set\n",
    "print 'train auc:', model_0.auc() \n",
    "\n",
    "# get the AUC for the validation set\n",
    "print 'validation auc:', model_0.auc(valid= True) "
   ]
  },
  {
   "cell_type": "markdown",
   "metadata": {},
   "source": [
    "## Grid Search\n",
    "First we want to know what value of max_depth to use because it has a big impact on the model training time and optimal values depend strongly on the dataset. We'll do a quick Cartesian grid search to get a rough idea of good candidate max_depth values. Each model in the grid search will use early stopping to tune the number of trees using the validation set AUC, as before."
   ]
  },
  {
   "cell_type": "code",
   "execution_count": 21,
   "metadata": {
    "collapsed": false
   },
   "outputs": [
    {
     "name": "stdout",
     "output_type": "stream",
     "text": [
      "gbm Grid Build progress: |████████████████████████████████████████████████████████████████████| 100%\n",
      "     max_depth                           model_ids              logloss\n",
      "0            3   grid_determines_max_depth_model_1  0.40545027822109286\n",
      "1            5   grid_determines_max_depth_model_2  0.40727056184453725\n",
      "2            7   grid_determines_max_depth_model_3   0.4189796777616836\n",
      "3            9   grid_determines_max_depth_model_4  0.42241445053377785\n",
      "4           13   grid_determines_max_depth_model_6   0.4270102072026163\n",
      "5           23  grid_determines_max_depth_model_11   0.4273629932864298\n",
      "6           17   grid_determines_max_depth_model_8  0.42787717963094113\n",
      "7           15   grid_determines_max_depth_model_7   0.4280843557169197\n",
      "8           11   grid_determines_max_depth_model_5   0.4281011988392483\n",
      "9           27  grid_determines_max_depth_model_13   0.4281751273323157\n",
      "10          19   grid_determines_max_depth_model_9  0.42865403634142746\n",
      "11          21  grid_determines_max_depth_model_10   0.4289934115125393\n",
      "12          25  grid_determines_max_depth_model_12  0.42955046255517804\n",
      "13          29  grid_determines_max_depth_model_14  0.42958271999822256\n",
      "14           1   grid_determines_max_depth_model_0   0.4346543682875286\n",
      "\n"
     ]
    }
   ],
   "source": [
    "# using grid to get the best max_depths\n",
    "hyper_params = {'max_depth' : range(1,30,2)}\n",
    "search_criteria = {'strategy': \"Cartesian\"}\n",
    "\n",
    "# build gbm model with grid search parameters\n",
    "from h2o.grid.grid_search import H2OGridSearch\n",
    "gs_1 = H2OGridSearch(H2OGradientBoostingEstimator(distribution='bernoulli',\n",
    "                                    ntrees=10000,\n",
    "                                    learn_rate=0.01,\n",
    "                                    # learn_rate_annealing = 0.99, \n",
    "                                    sample_rate = 0.8,\n",
    "                                    col_sample_rate = 0.8,\n",
    "                                    seed = 1234,\n",
    "                                    score_tree_interval = 10,              \n",
    "                                    stopping_rounds = 5,\n",
    "                                    stopping_metric = \"AUC\",\n",
    "                                    stopping_tolerance = 1e-4),\n",
    "                                    hyper_params = hyper_params,\n",
    "                                    grid_id = 'grid_determines_max_depth',\n",
    "                                    search_criteria = search_criteria)\n",
    "\n",
    "# train grid search\n",
    "gs_1.train(x=features_list, \n",
    "           y=response_name, \n",
    "           training_frame=train,\n",
    "           validation_frame = valid)\n",
    "\n",
    "# get the grid search results to see which max_depth performed the best\n",
    "print(gs_1)"
   ]
  },
  {
   "cell_type": "code",
   "execution_count": 22,
   "metadata": {
    "collapsed": false
   },
   "outputs": [
    {
     "name": "stdout",
     "output_type": "stream",
     "text": [
      "\n",
      "Grid Search Results for H2OGradientBoostingEstimator: \n"
     ]
    },
    {
     "data": {
      "text/html": [
       "<div style=\"overflow:auto\"><table style=\"width:50%\"><tr><td><b>Model Id</b></td>\n",
       "<td><b>Hyperparameters: [max_depth]</b></td>\n",
       "<td><b>auc(valid=True)</b></td></tr>\n",
       "<tr><td>grid_determines_max_depth_model_1</td>\n",
       "<td>[3]</td>\n",
       "<td>0.8506112</td></tr>\n",
       "<tr><td>grid_determines_max_depth_model_2</td>\n",
       "<td>[5]</td>\n",
       "<td>0.8472729</td></tr>\n",
       "<tr><td>grid_determines_max_depth_model_0</td>\n",
       "<td>[1]</td>\n",
       "<td>0.8448988</td></tr>\n",
       "<tr><td>grid_determines_max_depth_model_3</td>\n",
       "<td>[7]</td>\n",
       "<td>0.8396442</td></tr>\n",
       "<tr><td>grid_determines_max_depth_model_4</td>\n",
       "<td>[9]</td>\n",
       "<td>0.8349032</td></tr>\n",
       "<tr><td>grid_determines_max_depth_model_5</td>\n",
       "<td>[11]</td>\n",
       "<td>0.8315067</td></tr>\n",
       "<tr><td>grid_determines_max_depth_model_6</td>\n",
       "<td>[13]</td>\n",
       "<td>0.8314219</td></tr>\n",
       "<tr><td>grid_determines_max_depth_model_11</td>\n",
       "<td>[23]</td>\n",
       "<td>0.8303051</td></tr>\n",
       "<tr><td>grid_determines_max_depth_model_7</td>\n",
       "<td>[15]</td>\n",
       "<td>0.8303027</td></tr>\n",
       "<tr><td>grid_determines_max_depth_model_9</td>\n",
       "<td>[19]</td>\n",
       "<td>0.8302760</td></tr>\n",
       "<tr><td>grid_determines_max_depth_model_8</td>\n",
       "<td>[17]</td>\n",
       "<td>0.8302348</td></tr>\n",
       "<tr><td>grid_determines_max_depth_model_13</td>\n",
       "<td>[27]</td>\n",
       "<td>0.8295371</td></tr>\n",
       "<tr><td>grid_determines_max_depth_model_10</td>\n",
       "<td>[21]</td>\n",
       "<td>0.8291931</td></tr>\n",
       "<tr><td>grid_determines_max_depth_model_14</td>\n",
       "<td>[29]</td>\n",
       "<td>0.8288782</td></tr>\n",
       "<tr><td>grid_determines_max_depth_model_12</td>\n",
       "<td>[25]</td>\n",
       "<td>0.8283283</td></tr></table></div>"
      ],
      "text/plain": [
       "Model Id                            Hyperparameters: [max_depth]    auc(valid=True)\n",
       "----------------------------------  ------------------------------  -----------------\n",
       "grid_determines_max_depth_model_1   [3]                             0.850611\n",
       "grid_determines_max_depth_model_2   [5]                             0.847273\n",
       "grid_determines_max_depth_model_0   [1]                             0.844899\n",
       "grid_determines_max_depth_model_3   [7]                             0.839644\n",
       "grid_determines_max_depth_model_4   [9]                             0.834903\n",
       "grid_determines_max_depth_model_5   [11]                            0.831507\n",
       "grid_determines_max_depth_model_6   [13]                            0.831422\n",
       "grid_determines_max_depth_model_11  [23]                            0.830305\n",
       "grid_determines_max_depth_model_7   [15]                            0.830303\n",
       "grid_determines_max_depth_model_9   [19]                            0.830276\n",
       "grid_determines_max_depth_model_8   [17]                            0.830235\n",
       "grid_determines_max_depth_model_13  [27]                            0.829537\n",
       "grid_determines_max_depth_model_10  [21]                            0.829193\n",
       "grid_determines_max_depth_model_14  [29]                            0.828878\n",
       "grid_determines_max_depth_model_12  [25]                            0.828328"
      ]
     },
     "metadata": {},
     "output_type": "display_data"
    },
    {
     "name": "stdout",
     "output_type": "stream",
     "text": [
      "\n"
     ]
    }
   ],
   "source": [
    "# print out the auc for all models, sorted from best to worst\n",
    "auc_table = gs_1.sort_by('auc(valid=True)',increasing=False)\n",
    "print(auc_table)"
   ]
  },
  {
   "cell_type": "code",
   "execution_count": 38,
   "metadata": {
    "collapsed": true
   },
   "outputs": [],
   "source": [
    "# this is breaking because of xrange(), hard coding results for now\n",
    "# # find the range of the max_depth for the top five models\n",
    "# new_auc_table = auc_table[1:5]\n",
    "# max_depths_to_use = new_auc_table['Hyperparameters: [max_depth]']\n",
    "# print max_depths_to_use\n",
    "\n",
    "# # get the max depths as a list\n",
    "# new_maxmin_list = []\n",
    "# for element in max_depths_to_use:\n",
    "#     new_maxmin_list.append(element[0])\n",
    "# new_max = max(new_maxmin_list)\n",
    "# new_min = min(new_maxmin_list)\n",
    "new_min = 1\n",
    "new_max = 9"
   ]
  },
  {
   "cell_type": "markdown",
   "metadata": {},
   "source": [
    "Now that we know a good range for max_depth, we can tune all other parameters in more detail. Since we don't know what combinations of hyper-parameters will result in the best model, we'll use random hyper-parameter search to \"let the machine get luckier than a best guess of any human\"."
   ]
  },
  {
   "cell_type": "code",
   "execution_count": 39,
   "metadata": {
    "collapsed": true
   },
   "outputs": [],
   "source": [
    "\n",
    "hyper_params_2 = {'max_depth' : list(range(new_min,new_max+1,1)),\n",
    "                'sample_rate': [x/100. for x in range(20,101)],\n",
    "                'col_sample_rate' : [x/100. for x in range(20,101)],\n",
    "                'col_sample_rate_per_tree': [x/100. for x in range(20,101)],\n",
    "                'col_sample_rate_change_per_level': [x/100. for x in range(90,111)],\n",
    "                'min_rows': [2**x for x in range(0,int(math.log(train.nrow,2)-1)+1)],\n",
    "                'nbins': [2**x for x in range(4,11)],\n",
    "                'nbins_cats': [2**x for x in range(4,13)],\n",
    "                'min_split_improvement': [0,1e-8,1e-6,1e-4],\n",
    "                'histogram_type': [\"UniformAdaptive\",\"QuantilesGlobal\",\"RoundRobin\"]}\n",
    "search_criteria_2 = {'strategy': \"RandomDiscrete\",\n",
    "                   'max_runtime_secs': 3600,  ## limit the runtime to 60 minutes\n",
    "                   'max_models': 100,  ## build no more than 100 models\n",
    "                   'seed' : 1234,\n",
    "                   'stopping_rounds' : 5,\n",
    "                   'stopping_metric' : \"AUC\",\n",
    "                   'stopping_tolerance': 1e-3\n",
    "                   }\n"
   ]
  },
  {
   "cell_type": "code",
   "execution_count": 40,
   "metadata": {
    "collapsed": false
   },
   "outputs": [
    {
     "name": "stdout",
     "output_type": "stream",
     "text": [
      "col_sample_rate_change_per_level\n",
      "[0.9, 0.91, 0.92, 0.93, 0.94, 0.95, 0.96, 0.97, 0.98, 0.99, 1.0, 1.01, 1.02, 1.03, 1.04, 1.05, 1.06, 1.07, 1.08, 1.09, 1.1]\n",
      "------------------------------\n",
      "nbins\n",
      "[16, 32, 64, 128, 256, 512, 1024]\n",
      "------------------------------\n",
      "nbins_cats\n",
      "[16, 32, 64, 128, 256, 512, 1024, 2048, 4096]\n",
      "------------------------------\n",
      "col_sample_rate\n",
      "[0.2, 0.21, 0.22, 0.23, 0.24, 0.25, 0.26, 0.27, 0.28, 0.29, 0.3, 0.31, 0.32, 0.33, 0.34, 0.35, 0.36, 0.37, 0.38, 0.39, 0.4, 0.41, 0.42, 0.43, 0.44, 0.45, 0.46, 0.47, 0.48, 0.49, 0.5, 0.51, 0.52, 0.53, 0.54, 0.55, 0.56, 0.57, 0.58, 0.59, 0.6, 0.61, 0.62, 0.63, 0.64, 0.65, 0.66, 0.67, 0.68, 0.69, 0.7, 0.71, 0.72, 0.73, 0.74, 0.75, 0.76, 0.77, 0.78, 0.79, 0.8, 0.81, 0.82, 0.83, 0.84, 0.85, 0.86, 0.87, 0.88, 0.89, 0.9, 0.91, 0.92, 0.93, 0.94, 0.95, 0.96, 0.97, 0.98, 0.99, 1.0]\n",
      "------------------------------\n",
      "sample_rate\n",
      "[0.2, 0.21, 0.22, 0.23, 0.24, 0.25, 0.26, 0.27, 0.28, 0.29, 0.3, 0.31, 0.32, 0.33, 0.34, 0.35, 0.36, 0.37, 0.38, 0.39, 0.4, 0.41, 0.42, 0.43, 0.44, 0.45, 0.46, 0.47, 0.48, 0.49, 0.5, 0.51, 0.52, 0.53, 0.54, 0.55, 0.56, 0.57, 0.58, 0.59, 0.6, 0.61, 0.62, 0.63, 0.64, 0.65, 0.66, 0.67, 0.68, 0.69, 0.7, 0.71, 0.72, 0.73, 0.74, 0.75, 0.76, 0.77, 0.78, 0.79, 0.8, 0.81, 0.82, 0.83, 0.84, 0.85, 0.86, 0.87, 0.88, 0.89, 0.9, 0.91, 0.92, 0.93, 0.94, 0.95, 0.96, 0.97, 0.98, 0.99, 1.0]\n",
      "------------------------------\n",
      "col_sample_rate_per_tree\n",
      "[0.2, 0.21, 0.22, 0.23, 0.24, 0.25, 0.26, 0.27, 0.28, 0.29, 0.3, 0.31, 0.32, 0.33, 0.34, 0.35, 0.36, 0.37, 0.38, 0.39, 0.4, 0.41, 0.42, 0.43, 0.44, 0.45, 0.46, 0.47, 0.48, 0.49, 0.5, 0.51, 0.52, 0.53, 0.54, 0.55, 0.56, 0.57, 0.58, 0.59, 0.6, 0.61, 0.62, 0.63, 0.64, 0.65, 0.66, 0.67, 0.68, 0.69, 0.7, 0.71, 0.72, 0.73, 0.74, 0.75, 0.76, 0.77, 0.78, 0.79, 0.8, 0.81, 0.82, 0.83, 0.84, 0.85, 0.86, 0.87, 0.88, 0.89, 0.9, 0.91, 0.92, 0.93, 0.94, 0.95, 0.96, 0.97, 0.98, 0.99, 1.0]\n",
      "------------------------------\n",
      "min_split_improvement\n",
      "[0, 1e-08, 1e-06, 0.0001]\n",
      "------------------------------\n",
      "histogram_type\n",
      "['UniformAdaptive', 'QuantilesGlobal', 'RoundRobin']\n",
      "------------------------------\n",
      "min_rows\n",
      "[1, 2, 4, 8, 16, 32, 64, 128, 256, 512, 1024, 2048]\n",
      "------------------------------\n",
      "max_depth\n",
      "[5, 6, 7, 8, 9]\n",
      "------------------------------\n"
     ]
    }
   ],
   "source": [
    "# printing out values in hyperparams_2 to give a sense of the range of values\n",
    "for element in hyper_params_2.keys():\n",
    "    print element\n",
    "    print hyper_params_2[element]\n",
    "    print \"------------------------------\""
   ]
  },
  {
   "cell_type": "code",
   "execution_count": 41,
   "metadata": {
    "collapsed": false
   },
   "outputs": [
    {
     "name": "stdout",
     "output_type": "stream",
     "text": [
      "gbm Grid Build progress: |████████████████████████████████████████████████████████████████████| 100%\n",
      "      col_sample_rate col_sample_rate_change_per_level  \\\n",
      "0                0.27                             1.07   \n",
      "1                0.38                             1.07   \n",
      "2                0.22                             1.06   \n",
      "3                 0.4                             0.91   \n",
      "4                0.28                             1.08   \n",
      "5                0.37                             0.94   \n",
      "6                0.81                             1.06   \n",
      "7                0.67                             1.04   \n",
      "8                0.76                             0.94   \n",
      "9                0.73                              0.9   \n",
      "10               0.31                             0.94   \n",
      "11               0.22                             1.09   \n",
      "12               0.46                             0.94   \n",
      "13                0.2                             0.94   \n",
      "14               0.71                              0.9   \n",
      "15               0.95                              1.0   \n",
      "16               0.64                             1.02   \n",
      "17                0.5                              1.0   \n",
      "18               0.29                             1.02   \n",
      "19                0.5                             1.02   \n",
      "20               0.95                             1.03   \n",
      "21               0.32                             1.02   \n",
      "22                0.2                             0.96   \n",
      "23               0.74                             1.07   \n",
      "24               0.75                             0.94   \n",
      "25               0.52                              1.1   \n",
      "26                0.7                             1.08   \n",
      "27               0.87                             1.07   \n",
      "28                0.7                             0.92   \n",
      "29               0.33                             1.06   \n",
      ".. ..             ...                              ...   \n",
      "70               0.91                             0.91   \n",
      "71               0.87                              0.9   \n",
      "72               0.26                             0.91   \n",
      "73               0.44                             1.06   \n",
      "74                0.5                             0.92   \n",
      "75               0.45                              1.1   \n",
      "76               0.51                              1.1   \n",
      "77               0.54                             1.07   \n",
      "78               0.45                             1.06   \n",
      "79               0.42                             1.08   \n",
      "80               0.92                             0.93   \n",
      "81               0.61                             0.97   \n",
      "82                0.5                             1.03   \n",
      "83               0.45                             1.03   \n",
      "84               0.77                             1.06   \n",
      "85               0.99                              1.0   \n",
      "86               0.74                             0.96   \n",
      "87               0.24                             1.08   \n",
      "88               0.61                             1.04   \n",
      "89               0.66                             0.96   \n",
      "90               0.96                              1.1   \n",
      "91               0.85                             1.07   \n",
      "92               0.66                             0.99   \n",
      "93               0.37                             0.93   \n",
      "94               0.34                             1.07   \n",
      "95               0.63                              1.0   \n",
      "96                0.2                             0.94   \n",
      "97               0.69                             0.97   \n",
      "98               0.65                             1.08   \n",
      "99               0.55                             1.05   \n",
      "\n",
      "   col_sample_rate_per_tree   histogram_type max_depth min_rows  \\\n",
      "0                      0.39       RoundRobin         7    128.0   \n",
      "1                      0.35  QuantilesGlobal         9    512.0   \n",
      "2                      0.55       RoundRobin         5    512.0   \n",
      "3                      0.34  UniformAdaptive         9   1024.0   \n",
      "4                      0.47  QuantilesGlobal         9     64.0   \n",
      "5                      0.23  QuantilesGlobal         6     16.0   \n",
      "6                      0.68  QuantilesGlobal         5    512.0   \n",
      "7                      0.21  UniformAdaptive         7    128.0   \n",
      "8                       0.2       RoundRobin         9     16.0   \n",
      "9                       0.6  QuantilesGlobal         8     64.0   \n",
      "10                      0.3  UniformAdaptive         8      1.0   \n",
      "11                     0.22  UniformAdaptive         5     16.0   \n",
      "12                     0.24  UniformAdaptive         8    512.0   \n",
      "13                     0.45  UniformAdaptive         9      1.0   \n",
      "14                     0.37  UniformAdaptive         8    128.0   \n",
      "15                      0.3       RoundRobin         5    256.0   \n",
      "16                     0.66  QuantilesGlobal         7   1024.0   \n",
      "17                     0.38       RoundRobin         5   1024.0   \n",
      "18                     0.85  UniformAdaptive         5    512.0   \n",
      "19                     0.65       RoundRobin         7   1024.0   \n",
      "20                     0.29  UniformAdaptive         7    128.0   \n",
      "21                     0.88  UniformAdaptive         8    512.0   \n",
      "22                     0.96       RoundRobin         7     64.0   \n",
      "23                      0.4       RoundRobin         9    128.0   \n",
      "24                      0.6  QuantilesGlobal         6    512.0   \n",
      "25                     0.33  QuantilesGlobal         5    256.0   \n",
      "26                     0.99  QuantilesGlobal         7    256.0   \n",
      "27                     0.42  UniformAdaptive         6     64.0   \n",
      "28                     0.26       RoundRobin         5     16.0   \n",
      "29                     0.69       RoundRobin         5    128.0   \n",
      "..                      ...              ...       ...      ...   \n",
      "70                     0.32  UniformAdaptive         8      2.0   \n",
      "71                      0.7  UniformAdaptive         6      8.0   \n",
      "72                     0.88       RoundRobin         8      8.0   \n",
      "73                     0.76  QuantilesGlobal         7      8.0   \n",
      "74                     0.55  QuantilesGlobal         9     16.0   \n",
      "75                      0.8       RoundRobin         6     16.0   \n",
      "76                      0.5  UniformAdaptive         8   2048.0   \n",
      "77                     0.58  UniformAdaptive         8     16.0   \n",
      "78                     0.28  UniformAdaptive         9   2048.0   \n",
      "79                     0.45       RoundRobin         7      1.0   \n",
      "80                     0.56  QuantilesGlobal         9   2048.0   \n",
      "81                     0.36  QuantilesGlobal         7   2048.0   \n",
      "82                     0.45       RoundRobin         6   2048.0   \n",
      "83                     0.79       RoundRobin         8     32.0   \n",
      "84                     0.75  QuantilesGlobal         6     16.0   \n",
      "85                     0.22       RoundRobin         9      1.0   \n",
      "86                     0.36  UniformAdaptive         8      1.0   \n",
      "87                      0.3  UniformAdaptive         6   2048.0   \n",
      "88                     0.61  UniformAdaptive         8      8.0   \n",
      "89                     0.38  UniformAdaptive         9      8.0   \n",
      "90                     0.43       RoundRobin         9      2.0   \n",
      "91                     0.95  UniformAdaptive         8      8.0   \n",
      "92                     0.68  UniformAdaptive         7      1.0   \n",
      "93                     0.64  UniformAdaptive         9      2.0   \n",
      "94                     0.68  UniformAdaptive         8      2.0   \n",
      "95                     0.85       RoundRobin         7      2.0   \n",
      "96                     0.49  QuantilesGlobal         5   1024.0   \n",
      "97                     0.98  UniformAdaptive         8      2.0   \n",
      "98                     0.95  UniformAdaptive         9      4.0   \n",
      "99                      1.0  UniformAdaptive         9      1.0   \n",
      "\n",
      "   min_split_improvement nbins nbins_cats sample_rate        model_ids  \\\n",
      "0                 1.0E-6    16         64        0.57   grid_2_model_1   \n",
      "1                    0.0    32        128        0.28  grid_2_model_80   \n",
      "2                 1.0E-4    32         16        0.28  grid_2_model_73   \n",
      "3                    0.0    64       2048        0.48  grid_2_model_15   \n",
      "4                    0.0   128       1024         0.7  grid_2_model_53   \n",
      "5                 1.0E-6   512       4096        0.47  grid_2_model_63   \n",
      "6                    0.0   128       2048        0.77  grid_2_model_29   \n",
      "7                    0.0    32         64         0.6  grid_2_model_10   \n",
      "8                    0.0   256       1024        0.62  grid_2_model_67   \n",
      "9                 1.0E-4  1024        256        0.29  grid_2_model_45   \n",
      "10                1.0E-8   128        128         0.4  grid_2_model_47   \n",
      "11                1.0E-8  1024       2048        0.59  grid_2_model_61   \n",
      "12                   0.0   128        512        0.65  grid_2_model_42   \n",
      "13                1.0E-6    16       4096        0.39  grid_2_model_71   \n",
      "14                1.0E-4  1024         32        0.92  grid_2_model_37   \n",
      "15                1.0E-6  1024        512        0.95  grid_2_model_52   \n",
      "16                1.0E-4   512       2048        0.35  grid_2_model_74   \n",
      "17                1.0E-4   512       4096        0.87  grid_2_model_23   \n",
      "18                1.0E-6    64       4096        0.75  grid_2_model_40   \n",
      "19                1.0E-8   512        512        0.64   grid_2_model_0   \n",
      "20                1.0E-4    32         64         0.7  grid_2_model_12   \n",
      "21                1.0E-8   512       1024        0.46  grid_2_model_13   \n",
      "22                1.0E-8    64        256        0.93  grid_2_model_87   \n",
      "23                1.0E-4    16        128         0.3  grid_2_model_89   \n",
      "24                1.0E-4    16        512         0.5  grid_2_model_11   \n",
      "25                   0.0    64         64        0.65  grid_2_model_20   \n",
      "26                1.0E-4    32         16        0.49  grid_2_model_86   \n",
      "27                1.0E-8   128       2048        0.34  grid_2_model_90   \n",
      "28                   0.0    16       1024        0.42  grid_2_model_84   \n",
      "29                1.0E-4    64        256        0.35  grid_2_model_18   \n",
      "..                   ...   ...        ...         ...              ...   \n",
      "70                1.0E-4    64        256        0.52  grid_2_model_99   \n",
      "71                1.0E-6   512       4096        0.55  grid_2_model_24   \n",
      "72                1.0E-8    16        512        0.92  grid_2_model_65   \n",
      "73                1.0E-6    64        256        0.99  grid_2_model_82   \n",
      "74                1.0E-8    16       2048        0.38  grid_2_model_34   \n",
      "75                   0.0    64        256         0.2  grid_2_model_30   \n",
      "76                   0.0   128       1024        0.46  grid_2_model_25   \n",
      "77                1.0E-4   128       2048        0.72  grid_2_model_85   \n",
      "78                1.0E-8   256         64        0.28  grid_2_model_92   \n",
      "79                1.0E-6    16        256        0.35  grid_2_model_16   \n",
      "80                   0.0   128        128        0.93  grid_2_model_96   \n",
      "81                1.0E-6   128       1024        0.65  grid_2_model_98   \n",
      "82                1.0E-8   512         16        0.28  grid_2_model_58   \n",
      "83                1.0E-4    64         16        0.55  grid_2_model_54   \n",
      "84                1.0E-6    32         32        0.29  grid_2_model_26   \n",
      "85                   0.0   256        128         0.5  grid_2_model_57   \n",
      "86                1.0E-6    32         64        0.63  grid_2_model_62   \n",
      "87                1.0E-4    32         64        0.97  grid_2_model_44   \n",
      "88                1.0E-4    64         16        0.69  grid_2_model_81   \n",
      "89                1.0E-8   256         32        0.92  grid_2_model_50   \n",
      "90                1.0E-8   512       2048        0.48  grid_2_model_64   \n",
      "91                1.0E-6    16        512        0.55  grid_2_model_97   \n",
      "92                1.0E-4  1024       1024        0.23  grid_2_model_27   \n",
      "93                1.0E-6   128        512        0.73  grid_2_model_66   \n",
      "94                1.0E-8    16       2048         0.3  grid_2_model_32   \n",
      "95                   0.0   128       4096        0.37   grid_2_model_5   \n",
      "96                   0.0    16         32         0.4  grid_2_model_28   \n",
      "97                   0.0   256       4096        0.82  grid_2_model_93   \n",
      "98                1.0E-8    64        512         0.4  grid_2_model_33   \n",
      "99                1.0E-4  1024       2048        0.86  grid_2_model_17   \n",
      "\n",
      "                logloss  \n",
      "0   0.40058864437629804  \n",
      "1   0.40068726435759383  \n",
      "2   0.40087884506527033  \n",
      "3   0.40191255388072633  \n",
      "4    0.4019817348055734  \n",
      "5   0.40218465258864733  \n",
      "6   0.40264082913559374  \n",
      "7    0.4026994697464635  \n",
      "8    0.4027556073780664  \n",
      "9   0.40275880143839415  \n",
      "10   0.4030051951715101  \n",
      "11  0.40321937944776975  \n",
      "12  0.40344276962306247  \n",
      "13  0.40348775803658676  \n",
      "14   0.4035598213992797  \n",
      "15  0.40359577727316015  \n",
      "16   0.4036010094368257  \n",
      "17   0.4037073120833234  \n",
      "18   0.4037165861226964  \n",
      "19   0.4037507478807141  \n",
      "20   0.4039025148775113  \n",
      "21   0.4040553718889247  \n",
      "22   0.4042386883545344  \n",
      "23  0.40430276443588087  \n",
      "24   0.4043439534391865  \n",
      "25   0.4043444873174284  \n",
      "26    0.404698286402513  \n",
      "27  0.40496947240708475  \n",
      "28   0.4050156639736431  \n",
      "29   0.4051473303483364  \n",
      "..                  ...  \n",
      "70  0.41285513020003506  \n",
      "71   0.4135975743877916  \n",
      "72  0.41369630871883567  \n",
      "73  0.41370392491505253  \n",
      "74   0.4139462370560307  \n",
      "75  0.41412630623574287  \n",
      "76    0.414770723542919  \n",
      "77  0.41497764893233424  \n",
      "78  0.41515593646162335  \n",
      "79   0.4151716651962969  \n",
      "80  0.41519638372959483  \n",
      "81  0.41521260785869774  \n",
      "82  0.41555737381163255  \n",
      "83   0.4157970895531162  \n",
      "84   0.4166680821042429  \n",
      "85  0.41749175119728144  \n",
      "86   0.4177914474767897  \n",
      "87   0.4214000550599777  \n",
      "88   0.4220361882273469  \n",
      "89  0.42401297391106063  \n",
      "90    0.426814744995331  \n",
      "91    0.426815835590146  \n",
      "92  0.42694473878677824  \n",
      "93   0.4271205981086088  \n",
      "94  0.42729670066406017  \n",
      "95   0.4289478844388206  \n",
      "96    0.430969028225133  \n",
      "97  0.43649694143825174  \n",
      "98   0.4413233887185038  \n",
      "99   0.4512479516151343  \n",
      "\n",
      "[100 rows x 13 columns]\n",
      "\n"
     ]
    }
   ],
   "source": [
    "\n",
    "#Build grid search with GBM and hyper parameters\n",
    "gs_2 = H2OGridSearch(H2OGradientBoostingEstimator(distribution='bernoulli',\n",
    "                                    ntrees=10000,\n",
    "                                    learn_rate=0.05,\n",
    "                                    #learn_rate_annealing = 0.99,\n",
    "                                    stopping_rounds = 5,\n",
    "                                    stopping_tolerance = 1e-4,\n",
    "                                    stopping_metric = \"AUC\", \n",
    "                                    score_tree_interval = 10,\n",
    "                                    seed = 1234),\n",
    "                                    hyper_params = hyper_params_2,\n",
    "                                    grid_id = 'grid_2',\n",
    "                                    search_criteria = search_criteria_2)\n",
    "\n",
    "# train the grid and print results\n",
    "gs_2.train(x=features_list, \n",
    "           y=response_name, \n",
    "           training_frame=train,\n",
    "           validation_frame = valid)\n",
    "print(gs_2)"
   ]
  },
  {
   "cell_type": "code",
   "execution_count": null,
   "metadata": {
    "collapsed": false
   },
   "outputs": [],
   "source": [
    "# print out the auc for all of the models on the validation set\n",
    "auc_table_2 = gs_2.sort_by('auc(valid=True)',increasing=False)\n",
    "print(auc_table_2)"
   ]
  },
  {
   "cell_type": "code",
   "execution_count": null,
   "metadata": {
    "collapsed": false
   },
   "outputs": [],
   "source": [
    "# get the best model from the list (the model name listed at the top of the table)\n",
    "best_model = h2o.get_model('grid_2_model_9')\n",
    "test_performance_model = best_model.model_performance(test)\n",
    "\n",
    "# get the performance on the test model\n",
    "print test_performance_model.auc()"
   ]
  },
  {
   "cell_type": "code",
   "execution_count": null,
   "metadata": {
    "collapsed": false
   },
   "outputs": [],
   "source": [
    "# save a csv of the predictions:\n",
    "# first get the predictions from the best model\n",
    "best_model_predictions = best_model.predict(test)\n",
    "best_model_predictions.head()"
   ]
  },
  {
   "cell_type": "code",
   "execution_count": null,
   "metadata": {
    "collapsed": false
   },
   "outputs": [],
   "source": [
    "# export predictions as a csv to the current directory\n",
    "# h2o.export_file(best_model_predictions,'best_model_predictions.csv')"
   ]
  },
  {
   "cell_type": "code",
   "execution_count": null,
   "metadata": {
    "collapsed": true
   },
   "outputs": [],
   "source": [
    "# save model as a binary file to be uploaded and used in the cost function notebook\n",
    "# h2o.save_model(best_model, path=\"/Users/laurend/Code/repos/customer-churn/data/\")"
   ]
  },
  {
   "cell_type": "code",
   "execution_count": null,
   "metadata": {
    "collapsed": false
   },
   "outputs": [],
   "source": [
    "# download a POJO of the best model (best_model), you have to specify the path to \n",
    "# where you want your pojo saved (not provided below)\n",
    "# otherwise it will print to screen\n",
    "# h2o.download_pojo(best_model)"
   ]
  },
  {
   "cell_type": "code",
   "execution_count": null,
   "metadata": {
    "collapsed": true
   },
   "outputs": [],
   "source": []
  }
 ],
 "metadata": {
  "kernelspec": {
   "display_name": "Python 2",
   "language": "python",
   "name": "python2"
  },
  "language_info": {
   "codemirror_mode": {
    "name": "ipython",
    "version": 2
   },
   "file_extension": ".py",
   "mimetype": "text/x-python",
   "name": "python",
   "nbconvert_exporter": "python",
   "pygments_lexer": "ipython2",
   "version": "2.7.11"
  }
 },
 "nbformat": 4,
 "nbformat_minor": 0
}
